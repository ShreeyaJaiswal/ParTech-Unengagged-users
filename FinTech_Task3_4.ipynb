{
  "nbformat": 4,
  "nbformat_minor": 0,
  "metadata": {
    "colab": {
      "name": "ParTech_Task3.ipynb",
      "provenance": [],
      "collapsed_sections": []
    },
    "kernelspec": {
      "name": "python3",
      "display_name": "Python 3"
    },
    "language_info": {
      "name": "python"
    }
  },
  "cells": [
    {
      "cell_type": "code",
      "metadata": {
        "colab": {
          "base_uri": "https://localhost:8080/"
        },
        "id": "LigURfUdJ7_2",
        "outputId": "a84311b6-6581-498a-ebb9-38a0286190db"
      },
      "source": [
        "from google.colab import drive\n",
        "drive.mount('/content/drive')"
      ],
      "execution_count": null,
      "outputs": [
        {
          "output_type": "stream",
          "text": [
            "Drive already mounted at /content/drive; to attempt to forcibly remount, call drive.mount(\"/content/drive\", force_remount=True).\n"
          ],
          "name": "stdout"
        }
      ]
    },
    {
      "cell_type": "code",
      "metadata": {
        "id": "RHFtqQm9KLkJ"
      },
      "source": [
        "##Libraries\n",
        "import pandas as pd\n",
        "import numpy as np\n",
        "import matplotlib.pyplot as plt\n",
        "import seaborn as sns\n",
        "from sklearn.cluster import KMeans\n",
        "import matplotlib.pyplot as plt\n",
        "import seaborn as sns\n",
        "\n",
        "pd.options.display.float_format = '{:.2f}'.format"
      ],
      "execution_count": null,
      "outputs": []
    },
    {
      "cell_type": "code",
      "metadata": {
        "colab": {
          "base_uri": "https://localhost:8080/",
          "height": 197
        },
        "id": "rzelp8k-KcFX",
        "outputId": "5b91d975-3737-4b5f-8559-9dd25af68930"
      },
      "source": [
        "##Transaction details file of customers\n",
        "td_df=pd.read_csv(\"/content/drive/My Drive/FinalProject/transaction_details_data.csv\")\n",
        "td_df.head()"
      ],
      "execution_count": null,
      "outputs": [
        {
          "output_type": "execute_result",
          "data": {
            "text/html": [
              "<div>\n",
              "<style scoped>\n",
              "    .dataframe tbody tr th:only-of-type {\n",
              "        vertical-align: middle;\n",
              "    }\n",
              "\n",
              "    .dataframe tbody tr th {\n",
              "        vertical-align: top;\n",
              "    }\n",
              "\n",
              "    .dataframe thead th {\n",
              "        text-align: right;\n",
              "    }\n",
              "</style>\n",
              "<table border=\"1\" class=\"dataframe\">\n",
              "  <thead>\n",
              "    <tr style=\"text-align: right;\">\n",
              "      <th></th>\n",
              "      <th>transaction_id</th>\n",
              "      <th>amount_usd</th>\n",
              "      <th>transactions_type</th>\n",
              "      <th>transactions_state</th>\n",
              "      <th>user_id</th>\n",
              "      <th>created_date</th>\n",
              "    </tr>\n",
              "  </thead>\n",
              "  <tbody>\n",
              "    <tr>\n",
              "      <th>0</th>\n",
              "      <td>tx_0</td>\n",
              "      <td>4.55</td>\n",
              "      <td>TRANSFER</td>\n",
              "      <td>COMPLETED</td>\n",
              "      <td>c_898</td>\n",
              "      <td>2018-04-03 03:34:21.784487</td>\n",
              "    </tr>\n",
              "    <tr>\n",
              "      <th>1</th>\n",
              "      <td>tx_1</td>\n",
              "      <td>15.50</td>\n",
              "      <td>CARD_PAYMENT</td>\n",
              "      <td>COMPLETED</td>\n",
              "      <td>c_1652</td>\n",
              "      <td>2019-03-19 06:15:59.537032</td>\n",
              "    </tr>\n",
              "    <tr>\n",
              "      <th>2</th>\n",
              "      <td>tx_2</td>\n",
              "      <td>43.40</td>\n",
              "      <td>CARD_PAYMENT</td>\n",
              "      <td>COMPLETED</td>\n",
              "      <td>c_1652</td>\n",
              "      <td>2019-03-18 18:53:41.323032</td>\n",
              "    </tr>\n",
              "    <tr>\n",
              "      <th>3</th>\n",
              "      <td>tx_3</td>\n",
              "      <td>10043.01</td>\n",
              "      <td>TRANSFER</td>\n",
              "      <td>COMPLETED</td>\n",
              "      <td>c_1652</td>\n",
              "      <td>2019-03-22 14:20:01.513032</td>\n",
              "    </tr>\n",
              "    <tr>\n",
              "      <th>4</th>\n",
              "      <td>tx_4</td>\n",
              "      <td>43.81</td>\n",
              "      <td>CARD_PAYMENT</td>\n",
              "      <td>COMPLETED</td>\n",
              "      <td>c_5509</td>\n",
              "      <td>2019-03-22 05:42:50.316652</td>\n",
              "    </tr>\n",
              "  </tbody>\n",
              "</table>\n",
              "</div>"
            ],
            "text/plain": [
              "  transaction_id  amount_usd  ... user_id                created_date\n",
              "0           tx_0        4.55  ...   c_898  2018-04-03 03:34:21.784487\n",
              "1           tx_1       15.50  ...  c_1652  2019-03-19 06:15:59.537032\n",
              "2           tx_2       43.40  ...  c_1652  2019-03-18 18:53:41.323032\n",
              "3           tx_3    10043.01  ...  c_1652  2019-03-22 14:20:01.513032\n",
              "4           tx_4       43.81  ...  c_5509  2019-03-22 05:42:50.316652\n",
              "\n",
              "[5 rows x 6 columns]"
            ]
          },
          "metadata": {
            "tags": []
          },
          "execution_count": 3
        }
      ]
    },
    {
      "cell_type": "code",
      "metadata": {
        "colab": {
          "base_uri": "https://localhost:8080/"
        },
        "id": "gMBjwX9KO4pS",
        "outputId": "a9c041f2-b1e5-4313-d616-2a5028b4b841"
      },
      "source": [
        "##Checking on the info \n",
        "td_df.info()"
      ],
      "execution_count": null,
      "outputs": [
        {
          "output_type": "stream",
          "text": [
            "<class 'pandas.core.frame.DataFrame'>\n",
            "RangeIndex: 2740075 entries, 0 to 2740074\n",
            "Data columns (total 6 columns):\n",
            " #   Column              Dtype  \n",
            "---  ------              -----  \n",
            " 0   transaction_id      object \n",
            " 1   amount_usd          float64\n",
            " 2   transactions_type   object \n",
            " 3   transactions_state  object \n",
            " 4   user_id             object \n",
            " 5   created_date        object \n",
            "dtypes: float64(1), object(5)\n",
            "memory usage: 125.4+ MB\n"
          ],
          "name": "stdout"
        }
      ]
    },
    {
      "cell_type": "code",
      "metadata": {
        "colab": {
          "base_uri": "https://localhost:8080/"
        },
        "id": "Q6H-7LB9N4U5",
        "outputId": "e5b2173e-d516-4d24-c1e7-a90ef78117c2"
      },
      "source": [
        "print(\"Shape of Transaction details file is :\",td_df.shape)\n",
        "print(\"The total count of missing field in this dataset is :\",td_df.isnull().sum().sum())"
      ],
      "execution_count": null,
      "outputs": [
        {
          "output_type": "stream",
          "text": [
            "Shape of Transaction details file is : (2740075, 6)\n",
            "The total count of missing field in this dataset is : 0\n"
          ],
          "name": "stdout"
        }
      ]
    },
    {
      "cell_type": "code",
      "metadata": {
        "colab": {
          "base_uri": "https://localhost:8080/"
        },
        "id": "dPqgkBguLK7Y",
        "outputId": "e96ae299-98cb-45b8-bf7d-ae59b81a80ce"
      },
      "source": [
        "##Different state of transaction with their proportion.\n",
        "td_df['transactions_state'].value_counts()"
      ],
      "execution_count": null,
      "outputs": [
        {
          "output_type": "execute_result",
          "data": {
            "text/plain": [
              "COMPLETED    2407968\n",
              "DECLINED      155286\n",
              "REVERTED      112618\n",
              "FAILED         41053\n",
              "PENDING        21492\n",
              "CANCELLED       1658\n",
              "Name: transactions_state, dtype: int64"
            ]
          },
          "metadata": {
            "tags": []
          },
          "execution_count": 6
        }
      ]
    },
    {
      "cell_type": "code",
      "metadata": {
        "colab": {
          "base_uri": "https://localhost:8080/"
        },
        "id": "dpnWdN9OLxE7",
        "outputId": "5b57e74b-261f-40bf-ac12-08fb9e44c8ab"
      },
      "source": [
        "##As the data is highly imbalanced so we'll keep our focus on the completed transaction to identify unengaed customer.\n",
        "completed_df=td_df.loc[td_df['transactions_state']=='COMPLETED']\n",
        "completed_df.shape"
      ],
      "execution_count": null,
      "outputs": [
        {
          "output_type": "execute_result",
          "data": {
            "text/plain": [
              "(2407968, 6)"
            ]
          },
          "metadata": {
            "tags": []
          },
          "execution_count": 7
        }
      ]
    },
    {
      "cell_type": "code",
      "metadata": {
        "colab": {
          "base_uri": "https://localhost:8080/",
          "height": 731
        },
        "id": "AXcIqf0hMgKq",
        "outputId": "44fcef20-b12e-4685-ec8b-7bdf49197b1e"
      },
      "source": [
        "##Modifying the column as per the need.\n",
        "##1. Converting Date column datatype from objet to datetime\n",
        "completed_df['created_date']=pd.to_datetime(completed_df['created_date'])\n",
        "##2. Extracting Day\n",
        "completed_df['day']=completed_df['created_date'].dt.day\n",
        "##3. Extracting Month\n",
        "completed_df['month']=completed_df['created_date'].dt.month\n",
        "##4. Extracting Year\n",
        "completed_df['year']=completed_df['created_date'].dt.year\n",
        "##5. Extracting YearMonth\n",
        "completed_df['yearmonth']=completed_df.apply(lambda completed_df: str(completed_df['year'])+\"_\"+str(completed_df['month']),axis=1)\n",
        "\n",
        "##view \n",
        "completed_df.head()"
      ],
      "execution_count": null,
      "outputs": [
        {
          "output_type": "stream",
          "text": [
            "/usr/local/lib/python3.7/dist-packages/ipykernel_launcher.py:3: SettingWithCopyWarning: \n",
            "A value is trying to be set on a copy of a slice from a DataFrame.\n",
            "Try using .loc[row_indexer,col_indexer] = value instead\n",
            "\n",
            "See the caveats in the documentation: https://pandas.pydata.org/pandas-docs/stable/user_guide/indexing.html#returning-a-view-versus-a-copy\n",
            "  This is separate from the ipykernel package so we can avoid doing imports until\n",
            "/usr/local/lib/python3.7/dist-packages/ipykernel_launcher.py:5: SettingWithCopyWarning: \n",
            "A value is trying to be set on a copy of a slice from a DataFrame.\n",
            "Try using .loc[row_indexer,col_indexer] = value instead\n",
            "\n",
            "See the caveats in the documentation: https://pandas.pydata.org/pandas-docs/stable/user_guide/indexing.html#returning-a-view-versus-a-copy\n",
            "  \"\"\"\n",
            "/usr/local/lib/python3.7/dist-packages/ipykernel_launcher.py:7: SettingWithCopyWarning: \n",
            "A value is trying to be set on a copy of a slice from a DataFrame.\n",
            "Try using .loc[row_indexer,col_indexer] = value instead\n",
            "\n",
            "See the caveats in the documentation: https://pandas.pydata.org/pandas-docs/stable/user_guide/indexing.html#returning-a-view-versus-a-copy\n",
            "  import sys\n",
            "/usr/local/lib/python3.7/dist-packages/ipykernel_launcher.py:9: SettingWithCopyWarning: \n",
            "A value is trying to be set on a copy of a slice from a DataFrame.\n",
            "Try using .loc[row_indexer,col_indexer] = value instead\n",
            "\n",
            "See the caveats in the documentation: https://pandas.pydata.org/pandas-docs/stable/user_guide/indexing.html#returning-a-view-versus-a-copy\n",
            "  if __name__ == '__main__':\n",
            "/usr/local/lib/python3.7/dist-packages/ipykernel_launcher.py:11: SettingWithCopyWarning: \n",
            "A value is trying to be set on a copy of a slice from a DataFrame.\n",
            "Try using .loc[row_indexer,col_indexer] = value instead\n",
            "\n",
            "See the caveats in the documentation: https://pandas.pydata.org/pandas-docs/stable/user_guide/indexing.html#returning-a-view-versus-a-copy\n",
            "  # This is added back by InteractiveShellApp.init_path()\n"
          ],
          "name": "stderr"
        },
        {
          "output_type": "execute_result",
          "data": {
            "text/html": [
              "<div>\n",
              "<style scoped>\n",
              "    .dataframe tbody tr th:only-of-type {\n",
              "        vertical-align: middle;\n",
              "    }\n",
              "\n",
              "    .dataframe tbody tr th {\n",
              "        vertical-align: top;\n",
              "    }\n",
              "\n",
              "    .dataframe thead th {\n",
              "        text-align: right;\n",
              "    }\n",
              "</style>\n",
              "<table border=\"1\" class=\"dataframe\">\n",
              "  <thead>\n",
              "    <tr style=\"text-align: right;\">\n",
              "      <th></th>\n",
              "      <th>transaction_id</th>\n",
              "      <th>amount_usd</th>\n",
              "      <th>transactions_type</th>\n",
              "      <th>transactions_state</th>\n",
              "      <th>user_id</th>\n",
              "      <th>created_date</th>\n",
              "      <th>day</th>\n",
              "      <th>month</th>\n",
              "      <th>year</th>\n",
              "      <th>yearmonth</th>\n",
              "    </tr>\n",
              "  </thead>\n",
              "  <tbody>\n",
              "    <tr>\n",
              "      <th>0</th>\n",
              "      <td>tx_0</td>\n",
              "      <td>4.55</td>\n",
              "      <td>TRANSFER</td>\n",
              "      <td>COMPLETED</td>\n",
              "      <td>c_898</td>\n",
              "      <td>2018-04-03 03:34:21.784487</td>\n",
              "      <td>3</td>\n",
              "      <td>4</td>\n",
              "      <td>2018</td>\n",
              "      <td>2018_4</td>\n",
              "    </tr>\n",
              "    <tr>\n",
              "      <th>1</th>\n",
              "      <td>tx_1</td>\n",
              "      <td>15.50</td>\n",
              "      <td>CARD_PAYMENT</td>\n",
              "      <td>COMPLETED</td>\n",
              "      <td>c_1652</td>\n",
              "      <td>2019-03-19 06:15:59.537032</td>\n",
              "      <td>19</td>\n",
              "      <td>3</td>\n",
              "      <td>2019</td>\n",
              "      <td>2019_3</td>\n",
              "    </tr>\n",
              "    <tr>\n",
              "      <th>2</th>\n",
              "      <td>tx_2</td>\n",
              "      <td>43.40</td>\n",
              "      <td>CARD_PAYMENT</td>\n",
              "      <td>COMPLETED</td>\n",
              "      <td>c_1652</td>\n",
              "      <td>2019-03-18 18:53:41.323032</td>\n",
              "      <td>18</td>\n",
              "      <td>3</td>\n",
              "      <td>2019</td>\n",
              "      <td>2019_3</td>\n",
              "    </tr>\n",
              "    <tr>\n",
              "      <th>3</th>\n",
              "      <td>tx_3</td>\n",
              "      <td>10043.01</td>\n",
              "      <td>TRANSFER</td>\n",
              "      <td>COMPLETED</td>\n",
              "      <td>c_1652</td>\n",
              "      <td>2019-03-22 14:20:01.513032</td>\n",
              "      <td>22</td>\n",
              "      <td>3</td>\n",
              "      <td>2019</td>\n",
              "      <td>2019_3</td>\n",
              "    </tr>\n",
              "    <tr>\n",
              "      <th>4</th>\n",
              "      <td>tx_4</td>\n",
              "      <td>43.81</td>\n",
              "      <td>CARD_PAYMENT</td>\n",
              "      <td>COMPLETED</td>\n",
              "      <td>c_5509</td>\n",
              "      <td>2019-03-22 05:42:50.316652</td>\n",
              "      <td>22</td>\n",
              "      <td>3</td>\n",
              "      <td>2019</td>\n",
              "      <td>2019_3</td>\n",
              "    </tr>\n",
              "  </tbody>\n",
              "</table>\n",
              "</div>"
            ],
            "text/plain": [
              "  transaction_id  amount_usd transactions_type  ... month  year yearmonth\n",
              "0           tx_0        4.55          TRANSFER  ...     4  2018    2018_4\n",
              "1           tx_1       15.50      CARD_PAYMENT  ...     3  2019    2019_3\n",
              "2           tx_2       43.40      CARD_PAYMENT  ...     3  2019    2019_3\n",
              "3           tx_3    10043.01          TRANSFER  ...     3  2019    2019_3\n",
              "4           tx_4       43.81      CARD_PAYMENT  ...     3  2019    2019_3\n",
              "\n",
              "[5 rows x 10 columns]"
            ]
          },
          "metadata": {
            "tags": []
          },
          "execution_count": 8
        }
      ]
    },
    {
      "cell_type": "code",
      "metadata": {
        "colab": {
          "base_uri": "https://localhost:8080/",
          "height": 287
        },
        "id": "GVDj0ZkFM3sR",
        "outputId": "3dec0e1c-fdc5-4f85-d1e1-6cea9a1f41b2"
      },
      "source": [
        "##Evaluating\n",
        "completed_df.describe()"
      ],
      "execution_count": null,
      "outputs": [
        {
          "output_type": "execute_result",
          "data": {
            "text/html": [
              "<div>\n",
              "<style scoped>\n",
              "    .dataframe tbody tr th:only-of-type {\n",
              "        vertical-align: middle;\n",
              "    }\n",
              "\n",
              "    .dataframe tbody tr th {\n",
              "        vertical-align: top;\n",
              "    }\n",
              "\n",
              "    .dataframe thead th {\n",
              "        text-align: right;\n",
              "    }\n",
              "</style>\n",
              "<table border=\"1\" class=\"dataframe\">\n",
              "  <thead>\n",
              "    <tr style=\"text-align: right;\">\n",
              "      <th></th>\n",
              "      <th>amount_usd</th>\n",
              "      <th>day</th>\n",
              "      <th>month</th>\n",
              "      <th>year</th>\n",
              "    </tr>\n",
              "  </thead>\n",
              "  <tbody>\n",
              "    <tr>\n",
              "      <th>count</th>\n",
              "      <td>2407968.00</td>\n",
              "      <td>2407968.00</td>\n",
              "      <td>2407968.00</td>\n",
              "      <td>2407968.00</td>\n",
              "    </tr>\n",
              "    <tr>\n",
              "      <th>mean</th>\n",
              "      <td>64.44</td>\n",
              "      <td>15.49</td>\n",
              "      <td>5.91</td>\n",
              "      <td>2018.49</td>\n",
              "    </tr>\n",
              "    <tr>\n",
              "      <th>std</th>\n",
              "      <td>864.84</td>\n",
              "      <td>8.89</td>\n",
              "      <td>3.70</td>\n",
              "      <td>0.50</td>\n",
              "    </tr>\n",
              "    <tr>\n",
              "      <th>min</th>\n",
              "      <td>0.00</td>\n",
              "      <td>1.00</td>\n",
              "      <td>1.00</td>\n",
              "      <td>2018.00</td>\n",
              "    </tr>\n",
              "    <tr>\n",
              "      <th>25%</th>\n",
              "      <td>2.42</td>\n",
              "      <td>8.00</td>\n",
              "      <td>3.00</td>\n",
              "      <td>2018.00</td>\n",
              "    </tr>\n",
              "    <tr>\n",
              "      <th>50%</th>\n",
              "      <td>8.51</td>\n",
              "      <td>15.00</td>\n",
              "      <td>5.00</td>\n",
              "      <td>2018.00</td>\n",
              "    </tr>\n",
              "    <tr>\n",
              "      <th>75%</th>\n",
              "      <td>28.28</td>\n",
              "      <td>23.00</td>\n",
              "      <td>10.00</td>\n",
              "      <td>2019.00</td>\n",
              "    </tr>\n",
              "    <tr>\n",
              "      <th>max</th>\n",
              "      <td>612766.46</td>\n",
              "      <td>31.00</td>\n",
              "      <td>12.00</td>\n",
              "      <td>2019.00</td>\n",
              "    </tr>\n",
              "  </tbody>\n",
              "</table>\n",
              "</div>"
            ],
            "text/plain": [
              "       amount_usd        day      month       year\n",
              "count  2407968.00 2407968.00 2407968.00 2407968.00\n",
              "mean        64.44      15.49       5.91    2018.49\n",
              "std        864.84       8.89       3.70       0.50\n",
              "min          0.00       1.00       1.00    2018.00\n",
              "25%          2.42       8.00       3.00    2018.00\n",
              "50%          8.51      15.00       5.00    2018.00\n",
              "75%         28.28      23.00      10.00    2019.00\n",
              "max     612766.46      31.00      12.00    2019.00"
            ]
          },
          "metadata": {
            "tags": []
          },
          "execution_count": 9
        }
      ]
    },
    {
      "cell_type": "code",
      "metadata": {
        "colab": {
          "base_uri": "https://localhost:8080/"
        },
        "id": "j6okc8THUap2",
        "outputId": "f4842807-cfed-4406-ec09-991d533cca54"
      },
      "source": [
        "##Checking the proportion of the year\n",
        "completed_df['year'].value_counts()"
      ],
      "execution_count": null,
      "outputs": [
        {
          "output_type": "execute_result",
          "data": {
            "text/plain": [
              "2018    1220913\n",
              "2019    1187055\n",
              "Name: year, dtype: int64"
            ]
          },
          "metadata": {
            "tags": []
          },
          "execution_count": 10
        }
      ]
    },
    {
      "cell_type": "code",
      "metadata": {
        "colab": {
          "base_uri": "https://localhost:8080/",
          "height": 227
        },
        "id": "Bns0zAMVVg2C",
        "outputId": "aa442cff-e49c-4f10-94b6-156204918648"
      },
      "source": [
        "##one record per customer per year month\n",
        "##Total transaction for each user_id per year month\n",
        "total_trans=pd.DataFrame(completed_df.groupby(['user_id','yearmonth'])['amount_usd'].count()).rename(columns={'amount_usd':'No_of_transaction'})\n",
        "total_trans.head()"
      ],
      "execution_count": null,
      "outputs": [
        {
          "output_type": "execute_result",
          "data": {
            "text/html": [
              "<div>\n",
              "<style scoped>\n",
              "    .dataframe tbody tr th:only-of-type {\n",
              "        vertical-align: middle;\n",
              "    }\n",
              "\n",
              "    .dataframe tbody tr th {\n",
              "        vertical-align: top;\n",
              "    }\n",
              "\n",
              "    .dataframe thead th {\n",
              "        text-align: right;\n",
              "    }\n",
              "</style>\n",
              "<table border=\"1\" class=\"dataframe\">\n",
              "  <thead>\n",
              "    <tr style=\"text-align: right;\">\n",
              "      <th></th>\n",
              "      <th></th>\n",
              "      <th>No_of_transaction</th>\n",
              "    </tr>\n",
              "    <tr>\n",
              "      <th>user_id</th>\n",
              "      <th>yearmonth</th>\n",
              "      <th></th>\n",
              "    </tr>\n",
              "  </thead>\n",
              "  <tbody>\n",
              "    <tr>\n",
              "      <th rowspan=\"5\" valign=\"top\">c_0</th>\n",
              "      <th>2018_1</th>\n",
              "      <td>15</td>\n",
              "    </tr>\n",
              "    <tr>\n",
              "      <th>2018_10</th>\n",
              "      <td>24</td>\n",
              "    </tr>\n",
              "    <tr>\n",
              "      <th>2018_11</th>\n",
              "      <td>10</td>\n",
              "    </tr>\n",
              "    <tr>\n",
              "      <th>2018_12</th>\n",
              "      <td>9</td>\n",
              "    </tr>\n",
              "    <tr>\n",
              "      <th>2018_2</th>\n",
              "      <td>13</td>\n",
              "    </tr>\n",
              "  </tbody>\n",
              "</table>\n",
              "</div>"
            ],
            "text/plain": [
              "                   No_of_transaction\n",
              "user_id yearmonth                   \n",
              "c_0     2018_1                    15\n",
              "        2018_10                   24\n",
              "        2018_11                   10\n",
              "        2018_12                    9\n",
              "        2018_2                    13"
            ]
          },
          "metadata": {
            "tags": []
          },
          "execution_count": 11
        }
      ]
    },
    {
      "cell_type": "code",
      "metadata": {
        "colab": {
          "base_uri": "https://localhost:8080/",
          "height": 227
        },
        "id": "WyAMTAr5pf-S",
        "outputId": "0f0ab7e7-b095-46eb-d508-722ddb5d573d"
      },
      "source": [
        "total_trans.head()"
      ],
      "execution_count": null,
      "outputs": [
        {
          "output_type": "execute_result",
          "data": {
            "text/html": [
              "<div>\n",
              "<style scoped>\n",
              "    .dataframe tbody tr th:only-of-type {\n",
              "        vertical-align: middle;\n",
              "    }\n",
              "\n",
              "    .dataframe tbody tr th {\n",
              "        vertical-align: top;\n",
              "    }\n",
              "\n",
              "    .dataframe thead th {\n",
              "        text-align: right;\n",
              "    }\n",
              "</style>\n",
              "<table border=\"1\" class=\"dataframe\">\n",
              "  <thead>\n",
              "    <tr style=\"text-align: right;\">\n",
              "      <th></th>\n",
              "      <th></th>\n",
              "      <th>No_of_transaction</th>\n",
              "    </tr>\n",
              "    <tr>\n",
              "      <th>user_id</th>\n",
              "      <th>yearmonth</th>\n",
              "      <th></th>\n",
              "    </tr>\n",
              "  </thead>\n",
              "  <tbody>\n",
              "    <tr>\n",
              "      <th rowspan=\"5\" valign=\"top\">c_0</th>\n",
              "      <th>2018_1</th>\n",
              "      <td>15</td>\n",
              "    </tr>\n",
              "    <tr>\n",
              "      <th>2018_10</th>\n",
              "      <td>24</td>\n",
              "    </tr>\n",
              "    <tr>\n",
              "      <th>2018_11</th>\n",
              "      <td>10</td>\n",
              "    </tr>\n",
              "    <tr>\n",
              "      <th>2018_12</th>\n",
              "      <td>9</td>\n",
              "    </tr>\n",
              "    <tr>\n",
              "      <th>2018_2</th>\n",
              "      <td>13</td>\n",
              "    </tr>\n",
              "  </tbody>\n",
              "</table>\n",
              "</div>"
            ],
            "text/plain": [
              "                   No_of_transaction\n",
              "user_id yearmonth                   \n",
              "c_0     2018_1                    15\n",
              "        2018_10                   24\n",
              "        2018_11                   10\n",
              "        2018_12                    9\n",
              "        2018_2                    13"
            ]
          },
          "metadata": {
            "tags": []
          },
          "execution_count": 12
        }
      ]
    },
    {
      "cell_type": "code",
      "metadata": {
        "colab": {
          "base_uri": "https://localhost:8080/",
          "height": 227
        },
        "id": "mWn2L-2UqNV0",
        "outputId": "43e8a33c-dfab-4db4-9d49-a2c5187cc035"
      },
      "source": [
        "##Total amount spend for each user_id\n",
        "total_usd=pd.DataFrame(completed_df.groupby(['user_id','yearmonth'])['amount_usd'].sum()).rename(columns={'amount_usd':'Total_USD'})\n",
        "total_usd.head()"
      ],
      "execution_count": null,
      "outputs": [
        {
          "output_type": "execute_result",
          "data": {
            "text/html": [
              "<div>\n",
              "<style scoped>\n",
              "    .dataframe tbody tr th:only-of-type {\n",
              "        vertical-align: middle;\n",
              "    }\n",
              "\n",
              "    .dataframe tbody tr th {\n",
              "        vertical-align: top;\n",
              "    }\n",
              "\n",
              "    .dataframe thead th {\n",
              "        text-align: right;\n",
              "    }\n",
              "</style>\n",
              "<table border=\"1\" class=\"dataframe\">\n",
              "  <thead>\n",
              "    <tr style=\"text-align: right;\">\n",
              "      <th></th>\n",
              "      <th></th>\n",
              "      <th>Total_USD</th>\n",
              "    </tr>\n",
              "    <tr>\n",
              "      <th>user_id</th>\n",
              "      <th>yearmonth</th>\n",
              "      <th></th>\n",
              "    </tr>\n",
              "  </thead>\n",
              "  <tbody>\n",
              "    <tr>\n",
              "      <th rowspan=\"5\" valign=\"top\">c_0</th>\n",
              "      <th>2018_1</th>\n",
              "      <td>184.99</td>\n",
              "    </tr>\n",
              "    <tr>\n",
              "      <th>2018_10</th>\n",
              "      <td>578.88</td>\n",
              "    </tr>\n",
              "    <tr>\n",
              "      <th>2018_11</th>\n",
              "      <td>122.37</td>\n",
              "    </tr>\n",
              "    <tr>\n",
              "      <th>2018_12</th>\n",
              "      <td>96.21</td>\n",
              "    </tr>\n",
              "    <tr>\n",
              "      <th>2018_2</th>\n",
              "      <td>871.05</td>\n",
              "    </tr>\n",
              "  </tbody>\n",
              "</table>\n",
              "</div>"
            ],
            "text/plain": [
              "                   Total_USD\n",
              "user_id yearmonth           \n",
              "c_0     2018_1        184.99\n",
              "        2018_10       578.88\n",
              "        2018_11       122.37\n",
              "        2018_12        96.21\n",
              "        2018_2        871.05"
            ]
          },
          "metadata": {
            "tags": []
          },
          "execution_count": 13
        }
      ]
    },
    {
      "cell_type": "code",
      "metadata": {
        "colab": {
          "base_uri": "https://localhost:8080/",
          "height": 227
        },
        "id": "Qqy_XRItr595",
        "outputId": "38c88cd4-0d8c-46c4-d298-39e33536c2de"
      },
      "source": [
        "##Total distinct type of transaction for each user_id\n",
        "distinct_trans=pd.DataFrame(completed_df.groupby(['user_id','yearmonth'])['transactions_type'].nunique()).rename(columns={'transactions_type':'Distinct_Trans_Count'})\n",
        "distinct_trans.head()"
      ],
      "execution_count": null,
      "outputs": [
        {
          "output_type": "execute_result",
          "data": {
            "text/html": [
              "<div>\n",
              "<style scoped>\n",
              "    .dataframe tbody tr th:only-of-type {\n",
              "        vertical-align: middle;\n",
              "    }\n",
              "\n",
              "    .dataframe tbody tr th {\n",
              "        vertical-align: top;\n",
              "    }\n",
              "\n",
              "    .dataframe thead th {\n",
              "        text-align: right;\n",
              "    }\n",
              "</style>\n",
              "<table border=\"1\" class=\"dataframe\">\n",
              "  <thead>\n",
              "    <tr style=\"text-align: right;\">\n",
              "      <th></th>\n",
              "      <th></th>\n",
              "      <th>Distinct_Trans_Count</th>\n",
              "    </tr>\n",
              "    <tr>\n",
              "      <th>user_id</th>\n",
              "      <th>yearmonth</th>\n",
              "      <th></th>\n",
              "    </tr>\n",
              "  </thead>\n",
              "  <tbody>\n",
              "    <tr>\n",
              "      <th rowspan=\"5\" valign=\"top\">c_0</th>\n",
              "      <th>2018_1</th>\n",
              "      <td>4</td>\n",
              "    </tr>\n",
              "    <tr>\n",
              "      <th>2018_10</th>\n",
              "      <td>5</td>\n",
              "    </tr>\n",
              "    <tr>\n",
              "      <th>2018_11</th>\n",
              "      <td>4</td>\n",
              "    </tr>\n",
              "    <tr>\n",
              "      <th>2018_12</th>\n",
              "      <td>3</td>\n",
              "    </tr>\n",
              "    <tr>\n",
              "      <th>2018_2</th>\n",
              "      <td>4</td>\n",
              "    </tr>\n",
              "  </tbody>\n",
              "</table>\n",
              "</div>"
            ],
            "text/plain": [
              "                   Distinct_Trans_Count\n",
              "user_id yearmonth                      \n",
              "c_0     2018_1                        4\n",
              "        2018_10                       5\n",
              "        2018_11                       4\n",
              "        2018_12                       3\n",
              "        2018_2                        4"
            ]
          },
          "metadata": {
            "tags": []
          },
          "execution_count": 14
        }
      ]
    },
    {
      "cell_type": "code",
      "metadata": {
        "colab": {
          "base_uri": "https://localhost:8080/",
          "height": 227
        },
        "id": "7BAwG10TsLqR",
        "outputId": "518dc9cc-1b36-44fa-bd1a-eab28e21982e"
      },
      "source": [
        "##Total distinct days of transactions for each user_id\n",
        "distinct_days=pd.DataFrame(completed_df.groupby(['user_id','yearmonth'])['day'].nunique()).rename(columns={'day':'Distinct_Days_Count'})\n",
        "distinct_days.head()"
      ],
      "execution_count": null,
      "outputs": [
        {
          "output_type": "execute_result",
          "data": {
            "text/html": [
              "<div>\n",
              "<style scoped>\n",
              "    .dataframe tbody tr th:only-of-type {\n",
              "        vertical-align: middle;\n",
              "    }\n",
              "\n",
              "    .dataframe tbody tr th {\n",
              "        vertical-align: top;\n",
              "    }\n",
              "\n",
              "    .dataframe thead th {\n",
              "        text-align: right;\n",
              "    }\n",
              "</style>\n",
              "<table border=\"1\" class=\"dataframe\">\n",
              "  <thead>\n",
              "    <tr style=\"text-align: right;\">\n",
              "      <th></th>\n",
              "      <th></th>\n",
              "      <th>Distinct_Days_Count</th>\n",
              "    </tr>\n",
              "    <tr>\n",
              "      <th>user_id</th>\n",
              "      <th>yearmonth</th>\n",
              "      <th></th>\n",
              "    </tr>\n",
              "  </thead>\n",
              "  <tbody>\n",
              "    <tr>\n",
              "      <th rowspan=\"5\" valign=\"top\">c_0</th>\n",
              "      <th>2018_1</th>\n",
              "      <td>4</td>\n",
              "    </tr>\n",
              "    <tr>\n",
              "      <th>2018_10</th>\n",
              "      <td>9</td>\n",
              "    </tr>\n",
              "    <tr>\n",
              "      <th>2018_11</th>\n",
              "      <td>6</td>\n",
              "    </tr>\n",
              "    <tr>\n",
              "      <th>2018_12</th>\n",
              "      <td>6</td>\n",
              "    </tr>\n",
              "    <tr>\n",
              "      <th>2018_2</th>\n",
              "      <td>6</td>\n",
              "    </tr>\n",
              "  </tbody>\n",
              "</table>\n",
              "</div>"
            ],
            "text/plain": [
              "                   Distinct_Days_Count\n",
              "user_id yearmonth                     \n",
              "c_0     2018_1                       4\n",
              "        2018_10                      9\n",
              "        2018_11                      6\n",
              "        2018_12                      6\n",
              "        2018_2                       6"
            ]
          },
          "metadata": {
            "tags": []
          },
          "execution_count": 15
        }
      ]
    },
    {
      "cell_type": "code",
      "metadata": {
        "colab": {
          "base_uri": "https://localhost:8080/"
        },
        "id": "K8wGpg2fscjJ",
        "outputId": "8f2d9fd0-dcd4-4a27-db81-5d00ea827fb2"
      },
      "source": [
        "print(total_trans.shape,total_usd.shape,distinct_trans.shape,distinct_days.shape)"
      ],
      "execution_count": null,
      "outputs": [
        {
          "output_type": "stream",
          "text": [
            "(119936, 1) (119936, 1) (119936, 1) (119936, 1)\n"
          ],
          "name": "stdout"
        }
      ]
    },
    {
      "cell_type": "code",
      "metadata": {
        "colab": {
          "base_uri": "https://localhost:8080/",
          "height": 227
        },
        "id": "ngqmJKF1srJg",
        "outputId": "8c47a95f-0995-4531-a887-ba9bc5308bbf"
      },
      "source": [
        "##Combine dataframe all together [\"total_trans\",\"total_usd\",\"distinct_trans\",\"distinct_days\"]\n",
        "join1=total_trans.join(total_usd)\n",
        "join2=join1.join(distinct_trans)\n",
        "join3=join2.join(distinct_days)\n",
        "join3.head()"
      ],
      "execution_count": null,
      "outputs": [
        {
          "output_type": "execute_result",
          "data": {
            "text/html": [
              "<div>\n",
              "<style scoped>\n",
              "    .dataframe tbody tr th:only-of-type {\n",
              "        vertical-align: middle;\n",
              "    }\n",
              "\n",
              "    .dataframe tbody tr th {\n",
              "        vertical-align: top;\n",
              "    }\n",
              "\n",
              "    .dataframe thead th {\n",
              "        text-align: right;\n",
              "    }\n",
              "</style>\n",
              "<table border=\"1\" class=\"dataframe\">\n",
              "  <thead>\n",
              "    <tr style=\"text-align: right;\">\n",
              "      <th></th>\n",
              "      <th></th>\n",
              "      <th>No_of_transaction</th>\n",
              "      <th>Total_USD</th>\n",
              "      <th>Distinct_Trans_Count</th>\n",
              "      <th>Distinct_Days_Count</th>\n",
              "    </tr>\n",
              "    <tr>\n",
              "      <th>user_id</th>\n",
              "      <th>yearmonth</th>\n",
              "      <th></th>\n",
              "      <th></th>\n",
              "      <th></th>\n",
              "      <th></th>\n",
              "    </tr>\n",
              "  </thead>\n",
              "  <tbody>\n",
              "    <tr>\n",
              "      <th rowspan=\"5\" valign=\"top\">c_0</th>\n",
              "      <th>2018_1</th>\n",
              "      <td>15</td>\n",
              "      <td>184.99</td>\n",
              "      <td>4</td>\n",
              "      <td>4</td>\n",
              "    </tr>\n",
              "    <tr>\n",
              "      <th>2018_10</th>\n",
              "      <td>24</td>\n",
              "      <td>578.88</td>\n",
              "      <td>5</td>\n",
              "      <td>9</td>\n",
              "    </tr>\n",
              "    <tr>\n",
              "      <th>2018_11</th>\n",
              "      <td>10</td>\n",
              "      <td>122.37</td>\n",
              "      <td>4</td>\n",
              "      <td>6</td>\n",
              "    </tr>\n",
              "    <tr>\n",
              "      <th>2018_12</th>\n",
              "      <td>9</td>\n",
              "      <td>96.21</td>\n",
              "      <td>3</td>\n",
              "      <td>6</td>\n",
              "    </tr>\n",
              "    <tr>\n",
              "      <th>2018_2</th>\n",
              "      <td>13</td>\n",
              "      <td>871.05</td>\n",
              "      <td>4</td>\n",
              "      <td>6</td>\n",
              "    </tr>\n",
              "  </tbody>\n",
              "</table>\n",
              "</div>"
            ],
            "text/plain": [
              "                   No_of_transaction  ...  Distinct_Days_Count\n",
              "user_id yearmonth                     ...                     \n",
              "c_0     2018_1                    15  ...                    4\n",
              "        2018_10                   24  ...                    9\n",
              "        2018_11                   10  ...                    6\n",
              "        2018_12                    9  ...                    6\n",
              "        2018_2                    13  ...                    6\n",
              "\n",
              "[5 rows x 4 columns]"
            ]
          },
          "metadata": {
            "tags": []
          },
          "execution_count": 17
        }
      ]
    },
    {
      "cell_type": "code",
      "metadata": {
        "colab": {
          "base_uri": "https://localhost:8080/"
        },
        "id": "CvJQCblQt0DN",
        "outputId": "f9cddefa-3c15-4d59-de20-d68a18f56171"
      },
      "source": [
        "print(join3.shape)"
      ],
      "execution_count": null,
      "outputs": [
        {
          "output_type": "stream",
          "text": [
            "(119936, 4)\n"
          ],
          "name": "stdout"
        }
      ]
    },
    {
      "cell_type": "code",
      "metadata": {
        "colab": {
          "base_uri": "https://localhost:8080/",
          "height": 287
        },
        "id": "5UcEtNWOUFSx",
        "outputId": "ec6b4921-9aee-40f1-d04b-6c65553a57e5"
      },
      "source": [
        "join3.describe()"
      ],
      "execution_count": null,
      "outputs": [
        {
          "output_type": "execute_result",
          "data": {
            "text/html": [
              "<div>\n",
              "<style scoped>\n",
              "    .dataframe tbody tr th:only-of-type {\n",
              "        vertical-align: middle;\n",
              "    }\n",
              "\n",
              "    .dataframe tbody tr th {\n",
              "        vertical-align: top;\n",
              "    }\n",
              "\n",
              "    .dataframe thead th {\n",
              "        text-align: right;\n",
              "    }\n",
              "</style>\n",
              "<table border=\"1\" class=\"dataframe\">\n",
              "  <thead>\n",
              "    <tr style=\"text-align: right;\">\n",
              "      <th></th>\n",
              "      <th>No_of_transaction</th>\n",
              "      <th>Total_USD</th>\n",
              "      <th>Distinct_Trans_Count</th>\n",
              "      <th>Distinct_Days_Count</th>\n",
              "    </tr>\n",
              "  </thead>\n",
              "  <tbody>\n",
              "    <tr>\n",
              "      <th>count</th>\n",
              "      <td>119936.00</td>\n",
              "      <td>119936.00</td>\n",
              "      <td>119936.00</td>\n",
              "      <td>119936.00</td>\n",
              "    </tr>\n",
              "    <tr>\n",
              "      <th>mean</th>\n",
              "      <td>20.08</td>\n",
              "      <td>1293.86</td>\n",
              "      <td>2.77</td>\n",
              "      <td>6.98</td>\n",
              "    </tr>\n",
              "    <tr>\n",
              "      <th>std</th>\n",
              "      <td>32.65</td>\n",
              "      <td>9950.77</td>\n",
              "      <td>1.36</td>\n",
              "      <td>6.97</td>\n",
              "    </tr>\n",
              "    <tr>\n",
              "      <th>min</th>\n",
              "      <td>1.00</td>\n",
              "      <td>0.00</td>\n",
              "      <td>1.00</td>\n",
              "      <td>1.00</td>\n",
              "    </tr>\n",
              "    <tr>\n",
              "      <th>25%</th>\n",
              "      <td>3.00</td>\n",
              "      <td>43.40</td>\n",
              "      <td>2.00</td>\n",
              "      <td>2.00</td>\n",
              "    </tr>\n",
              "    <tr>\n",
              "      <th>50%</th>\n",
              "      <td>8.00</td>\n",
              "      <td>283.41</td>\n",
              "      <td>3.00</td>\n",
              "      <td>4.00</td>\n",
              "    </tr>\n",
              "    <tr>\n",
              "      <th>75%</th>\n",
              "      <td>24.00</td>\n",
              "      <td>1024.65</td>\n",
              "      <td>4.00</td>\n",
              "      <td>10.00</td>\n",
              "    </tr>\n",
              "    <tr>\n",
              "      <th>max</th>\n",
              "      <td>855.00</td>\n",
              "      <td>1861358.14</td>\n",
              "      <td>9.00</td>\n",
              "      <td>31.00</td>\n",
              "    </tr>\n",
              "  </tbody>\n",
              "</table>\n",
              "</div>"
            ],
            "text/plain": [
              "       No_of_transaction  Total_USD  Distinct_Trans_Count  Distinct_Days_Count\n",
              "count          119936.00  119936.00             119936.00            119936.00\n",
              "mean               20.08    1293.86                  2.77                 6.98\n",
              "std                32.65    9950.77                  1.36                 6.97\n",
              "min                 1.00       0.00                  1.00                 1.00\n",
              "25%                 3.00      43.40                  2.00                 2.00\n",
              "50%                 8.00     283.41                  3.00                 4.00\n",
              "75%                24.00    1024.65                  4.00                10.00\n",
              "max               855.00 1861358.14                  9.00                31.00"
            ]
          },
          "metadata": {
            "tags": []
          },
          "execution_count": 19
        }
      ]
    },
    {
      "cell_type": "code",
      "metadata": {
        "colab": {
          "base_uri": "https://localhost:8080/",
          "height": 197
        },
        "id": "5294eUr1wc7f",
        "outputId": "cedcb6a1-2e5a-4d21-b1ce-8cfb1cafcf2b"
      },
      "source": [
        "##Scale the data\n",
        "from sklearn.preprocessing import StandardScaler\n",
        "ss=StandardScaler()\n",
        "scaled_mmx_df=pd.DataFrame((ss.fit_transform(join3)),columns=join3.columns)\n",
        "scaled_mmx_df.head()"
      ],
      "execution_count": null,
      "outputs": [
        {
          "output_type": "execute_result",
          "data": {
            "text/html": [
              "<div>\n",
              "<style scoped>\n",
              "    .dataframe tbody tr th:only-of-type {\n",
              "        vertical-align: middle;\n",
              "    }\n",
              "\n",
              "    .dataframe tbody tr th {\n",
              "        vertical-align: top;\n",
              "    }\n",
              "\n",
              "    .dataframe thead th {\n",
              "        text-align: right;\n",
              "    }\n",
              "</style>\n",
              "<table border=\"1\" class=\"dataframe\">\n",
              "  <thead>\n",
              "    <tr style=\"text-align: right;\">\n",
              "      <th></th>\n",
              "      <th>No_of_transaction</th>\n",
              "      <th>Total_USD</th>\n",
              "      <th>Distinct_Trans_Count</th>\n",
              "      <th>Distinct_Days_Count</th>\n",
              "    </tr>\n",
              "  </thead>\n",
              "  <tbody>\n",
              "    <tr>\n",
              "      <th>0</th>\n",
              "      <td>-0.16</td>\n",
              "      <td>-0.11</td>\n",
              "      <td>0.91</td>\n",
              "      <td>-0.43</td>\n",
              "    </tr>\n",
              "    <tr>\n",
              "      <th>1</th>\n",
              "      <td>0.12</td>\n",
              "      <td>-0.07</td>\n",
              "      <td>1.64</td>\n",
              "      <td>0.29</td>\n",
              "    </tr>\n",
              "    <tr>\n",
              "      <th>2</th>\n",
              "      <td>-0.31</td>\n",
              "      <td>-0.12</td>\n",
              "      <td>0.91</td>\n",
              "      <td>-0.14</td>\n",
              "    </tr>\n",
              "    <tr>\n",
              "      <th>3</th>\n",
              "      <td>-0.34</td>\n",
              "      <td>-0.12</td>\n",
              "      <td>0.17</td>\n",
              "      <td>-0.14</td>\n",
              "    </tr>\n",
              "    <tr>\n",
              "      <th>4</th>\n",
              "      <td>-0.22</td>\n",
              "      <td>-0.04</td>\n",
              "      <td>0.91</td>\n",
              "      <td>-0.14</td>\n",
              "    </tr>\n",
              "  </tbody>\n",
              "</table>\n",
              "</div>"
            ],
            "text/plain": [
              "   No_of_transaction  Total_USD  Distinct_Trans_Count  Distinct_Days_Count\n",
              "0              -0.16      -0.11                  0.91                -0.43\n",
              "1               0.12      -0.07                  1.64                 0.29\n",
              "2              -0.31      -0.12                  0.91                -0.14\n",
              "3              -0.34      -0.12                  0.17                -0.14\n",
              "4              -0.22      -0.04                  0.91                -0.14"
            ]
          },
          "metadata": {
            "tags": []
          },
          "execution_count": 20
        }
      ]
    },
    {
      "cell_type": "code",
      "metadata": {
        "colab": {
          "base_uri": "https://localhost:8080/",
          "height": 287
        },
        "id": "a8Czy3J-TCUj",
        "outputId": "9936f429-cc77-4411-fc86-5ceb4b3682c6"
      },
      "source": [
        "scaled_mmx_df.describe()"
      ],
      "execution_count": null,
      "outputs": [
        {
          "output_type": "execute_result",
          "data": {
            "text/html": [
              "<div>\n",
              "<style scoped>\n",
              "    .dataframe tbody tr th:only-of-type {\n",
              "        vertical-align: middle;\n",
              "    }\n",
              "\n",
              "    .dataframe tbody tr th {\n",
              "        vertical-align: top;\n",
              "    }\n",
              "\n",
              "    .dataframe thead th {\n",
              "        text-align: right;\n",
              "    }\n",
              "</style>\n",
              "<table border=\"1\" class=\"dataframe\">\n",
              "  <thead>\n",
              "    <tr style=\"text-align: right;\">\n",
              "      <th></th>\n",
              "      <th>No_of_transaction</th>\n",
              "      <th>Total_USD</th>\n",
              "      <th>Distinct_Trans_Count</th>\n",
              "      <th>Distinct_Days_Count</th>\n",
              "    </tr>\n",
              "  </thead>\n",
              "  <tbody>\n",
              "    <tr>\n",
              "      <th>count</th>\n",
              "      <td>119936.00</td>\n",
              "      <td>119936.00</td>\n",
              "      <td>119936.00</td>\n",
              "      <td>119936.00</td>\n",
              "    </tr>\n",
              "    <tr>\n",
              "      <th>mean</th>\n",
              "      <td>-0.00</td>\n",
              "      <td>-0.00</td>\n",
              "      <td>0.00</td>\n",
              "      <td>-0.00</td>\n",
              "    </tr>\n",
              "    <tr>\n",
              "      <th>std</th>\n",
              "      <td>1.00</td>\n",
              "      <td>1.00</td>\n",
              "      <td>1.00</td>\n",
              "      <td>1.00</td>\n",
              "    </tr>\n",
              "    <tr>\n",
              "      <th>min</th>\n",
              "      <td>-0.58</td>\n",
              "      <td>-0.13</td>\n",
              "      <td>-1.30</td>\n",
              "      <td>-0.86</td>\n",
              "    </tr>\n",
              "    <tr>\n",
              "      <th>25%</th>\n",
              "      <td>-0.52</td>\n",
              "      <td>-0.13</td>\n",
              "      <td>-0.57</td>\n",
              "      <td>-0.71</td>\n",
              "    </tr>\n",
              "    <tr>\n",
              "      <th>50%</th>\n",
              "      <td>-0.37</td>\n",
              "      <td>-0.10</td>\n",
              "      <td>0.17</td>\n",
              "      <td>-0.43</td>\n",
              "    </tr>\n",
              "    <tr>\n",
              "      <th>75%</th>\n",
              "      <td>0.12</td>\n",
              "      <td>-0.03</td>\n",
              "      <td>0.91</td>\n",
              "      <td>0.43</td>\n",
              "    </tr>\n",
              "    <tr>\n",
              "      <th>max</th>\n",
              "      <td>25.57</td>\n",
              "      <td>186.93</td>\n",
              "      <td>4.59</td>\n",
              "      <td>3.44</td>\n",
              "    </tr>\n",
              "  </tbody>\n",
              "</table>\n",
              "</div>"
            ],
            "text/plain": [
              "       No_of_transaction  Total_USD  Distinct_Trans_Count  Distinct_Days_Count\n",
              "count          119936.00  119936.00             119936.00            119936.00\n",
              "mean               -0.00      -0.00                  0.00                -0.00\n",
              "std                 1.00       1.00                  1.00                 1.00\n",
              "min                -0.58      -0.13                 -1.30                -0.86\n",
              "25%                -0.52      -0.13                 -0.57                -0.71\n",
              "50%                -0.37      -0.10                  0.17                -0.43\n",
              "75%                 0.12      -0.03                  0.91                 0.43\n",
              "max                25.57     186.93                  4.59                 3.44"
            ]
          },
          "metadata": {
            "tags": []
          },
          "execution_count": 21
        }
      ]
    },
    {
      "cell_type": "code",
      "metadata": {
        "id": "Rrg241kRyiFB"
      },
      "source": [
        "##Build Cluster to predict class of engagged vs unengagged user\n",
        "##Kmeans\n",
        "\n",
        "\n",
        "wcc_list=[]\n",
        "for i in range(1,20):\n",
        "  km=KMeans(i,init='k-means++',random_state=10)\n",
        "  km.fit(scaled_mmx_df)\n",
        "  wcc_list.append(km.inertia_)\n"
      ],
      "execution_count": null,
      "outputs": []
    },
    {
      "cell_type": "code",
      "metadata": {
        "colab": {
          "base_uri": "https://localhost:8080/",
          "height": 391
        },
        "id": "-fJmklTo0CTy",
        "outputId": "02f36cc9-db31-4587-fbf9-2da8f96fc07e"
      },
      "source": [
        "##Plot Elbow graph\n",
        "\n",
        "plt.figure(figsize=(15,6))\n",
        "plt.plot(range(1,20),wcc_list)\n",
        "plt.xlabel(\"No of cluster\")\n",
        "plt.ylabel(\"WCC\")\n",
        "plt.xticks(range(1,20))\n",
        "plt.grid(True)\n",
        "plt.show()"
      ],
      "execution_count": null,
      "outputs": [
        {
          "output_type": "display_data",
          "data": {
            "image/png": "[encoded data removed]",
            "text/plain": [
              "<Figure size 1080x432 with 1 Axes>"
            ]
          },
          "metadata": {
            "tags": [],
            "needs_background": "light"
          }
        }
      ]
    },
    {
      "cell_type": "code",
      "metadata": {
        "colab": {
          "base_uri": "https://localhost:8080/"
        },
        "id": "s8AmcE822W0x",
        "outputId": "eaa61187-7354-4473-8b55-810ec425ac0d"
      },
      "source": [
        "##Making 2 cluster\n",
        "km2=KMeans(n_clusters=2,init='k-means++',random_state=10)\n",
        "km2.fit(scaled_mmx_df)\n",
        "y_pred=km2.predict(scaled_mmx_df)\n",
        "print(\"WCSS :\",km2.inertia_)\n",
        "print(\"Cluster centers\",km2.cluster_centers_)"
      ],
      "execution_count": null,
      "outputs": [
        {
          "output_type": "stream",
          "text": [
            "WCSS : 293728.3805521355\n",
            "Cluster centers [[ 1.25389747  0.23000806  1.12973666  1.48789073]\n",
            " [-0.38018032 -0.06973819 -0.3425349  -0.45112681]]\n"
          ],
          "name": "stdout"
        }
      ]
    },
    {
      "cell_type": "code",
      "metadata": {
        "colab": {
          "base_uri": "https://localhost:8080/",
          "height": 197
        },
        "id": "VYWpaZCsDv1n",
        "outputId": "39104ec6-ea65-47e0-d258-097e0f58f41b"
      },
      "source": [
        "##Store the result\n",
        "partech_clus=join3.reset_index()\n",
        "partech_clus['Kmeans_Cluster']=y_pred\n",
        "partech_clus.to_csv(\"/content/drive/My Drive/FinalProject/partech_clus.csv\")\n",
        "partech_clus.head()"
      ],
      "execution_count": null,
      "outputs": [
        {
          "output_type": "execute_result",
          "data": {
            "text/html": [
              "<div>\n",
              "<style scoped>\n",
              "    .dataframe tbody tr th:only-of-type {\n",
              "        vertical-align: middle;\n",
              "    }\n",
              "\n",
              "    .dataframe tbody tr th {\n",
              "        vertical-align: top;\n",
              "    }\n",
              "\n",
              "    .dataframe thead th {\n",
              "        text-align: right;\n",
              "    }\n",
              "</style>\n",
              "<table border=\"1\" class=\"dataframe\">\n",
              "  <thead>\n",
              "    <tr style=\"text-align: right;\">\n",
              "      <th></th>\n",
              "      <th>user_id</th>\n",
              "      <th>yearmonth</th>\n",
              "      <th>No_of_transaction</th>\n",
              "      <th>Total_USD</th>\n",
              "      <th>Distinct_Trans_Count</th>\n",
              "      <th>Distinct_Days_Count</th>\n",
              "      <th>Kmeans_Cluster</th>\n",
              "    </tr>\n",
              "  </thead>\n",
              "  <tbody>\n",
              "    <tr>\n",
              "      <th>0</th>\n",
              "      <td>c_0</td>\n",
              "      <td>2018_1</td>\n",
              "      <td>15</td>\n",
              "      <td>184.99</td>\n",
              "      <td>4</td>\n",
              "      <td>4</td>\n",
              "      <td>1</td>\n",
              "    </tr>\n",
              "    <tr>\n",
              "      <th>1</th>\n",
              "      <td>c_0</td>\n",
              "      <td>2018_10</td>\n",
              "      <td>24</td>\n",
              "      <td>578.88</td>\n",
              "      <td>5</td>\n",
              "      <td>9</td>\n",
              "      <td>0</td>\n",
              "    </tr>\n",
              "    <tr>\n",
              "      <th>2</th>\n",
              "      <td>c_0</td>\n",
              "      <td>2018_11</td>\n",
              "      <td>10</td>\n",
              "      <td>122.37</td>\n",
              "      <td>4</td>\n",
              "      <td>6</td>\n",
              "      <td>1</td>\n",
              "    </tr>\n",
              "    <tr>\n",
              "      <th>3</th>\n",
              "      <td>c_0</td>\n",
              "      <td>2018_12</td>\n",
              "      <td>9</td>\n",
              "      <td>96.21</td>\n",
              "      <td>3</td>\n",
              "      <td>6</td>\n",
              "      <td>1</td>\n",
              "    </tr>\n",
              "    <tr>\n",
              "      <th>4</th>\n",
              "      <td>c_0</td>\n",
              "      <td>2018_2</td>\n",
              "      <td>13</td>\n",
              "      <td>871.05</td>\n",
              "      <td>4</td>\n",
              "      <td>6</td>\n",
              "      <td>1</td>\n",
              "    </tr>\n",
              "  </tbody>\n",
              "</table>\n",
              "</div>"
            ],
            "text/plain": [
              "  user_id yearmonth  ...  Distinct_Days_Count  Kmeans_Cluster\n",
              "0     c_0    2018_1  ...                    4               1\n",
              "1     c_0   2018_10  ...                    9               0\n",
              "2     c_0   2018_11  ...                    6               1\n",
              "3     c_0   2018_12  ...                    6               1\n",
              "4     c_0    2018_2  ...                    6               1\n",
              "\n",
              "[5 rows x 7 columns]"
            ]
          },
          "metadata": {
            "tags": []
          },
          "execution_count": 26
        }
      ]
    },
    {
      "cell_type": "code",
      "metadata": {
        "colab": {
          "base_uri": "https://localhost:8080/",
          "height": 197
        },
        "id": "M461T-Q43fPt",
        "outputId": "6fd431e9-26b6-4e18-f6ee-6af5306407f7"
      },
      "source": [
        "##Resetting the index to retrieve user_id as a column\n",
        "join4=join3.reset_index()\n",
        "##Create a copy of scaled_mmx_df and create a new column 'user_id'\n",
        "new_scaled_mmx_df=scaled_mmx_df.copy()\n",
        "new_scaled_mmx_df['user_id']=join4['user_id']\n",
        "new_scaled_mmx_df['yearmonth']=join4['yearmonth']\n",
        "new_scaled_mmx_df['year']=join4['yearmonth'].apply(lambda ym: ym[0:4])\n",
        "##Adding a new column with KMeans cluster predictions on existing dataset\n",
        "new_scaled_mmx_df['Kmeans_Cluster']=y_pred\n",
        "new_scaled_mmx_df.head()"
      ],
      "execution_count": null,
      "outputs": [
        {
          "output_type": "execute_result",
          "data": {
            "text/html": [
              "<div>\n",
              "<style scoped>\n",
              "    .dataframe tbody tr th:only-of-type {\n",
              "        vertical-align: middle;\n",
              "    }\n",
              "\n",
              "    .dataframe tbody tr th {\n",
              "        vertical-align: top;\n",
              "    }\n",
              "\n",
              "    .dataframe thead th {\n",
              "        text-align: right;\n",
              "    }\n",
              "</style>\n",
              "<table border=\"1\" class=\"dataframe\">\n",
              "  <thead>\n",
              "    <tr style=\"text-align: right;\">\n",
              "      <th></th>\n",
              "      <th>No_of_transaction</th>\n",
              "      <th>Total_USD</th>\n",
              "      <th>Distinct_Trans_Count</th>\n",
              "      <th>Distinct_Days_Count</th>\n",
              "      <th>user_id</th>\n",
              "      <th>yearmonth</th>\n",
              "      <th>year</th>\n",
              "      <th>Kmeans_Cluster</th>\n",
              "    </tr>\n",
              "  </thead>\n",
              "  <tbody>\n",
              "    <tr>\n",
              "      <th>0</th>\n",
              "      <td>-0.16</td>\n",
              "      <td>-0.11</td>\n",
              "      <td>0.91</td>\n",
              "      <td>-0.43</td>\n",
              "      <td>c_0</td>\n",
              "      <td>2018_1</td>\n",
              "      <td>2018</td>\n",
              "      <td>1</td>\n",
              "    </tr>\n",
              "    <tr>\n",
              "      <th>1</th>\n",
              "      <td>0.12</td>\n",
              "      <td>-0.07</td>\n",
              "      <td>1.64</td>\n",
              "      <td>0.29</td>\n",
              "      <td>c_0</td>\n",
              "      <td>2018_10</td>\n",
              "      <td>2018</td>\n",
              "      <td>0</td>\n",
              "    </tr>\n",
              "    <tr>\n",
              "      <th>2</th>\n",
              "      <td>-0.31</td>\n",
              "      <td>-0.12</td>\n",
              "      <td>0.91</td>\n",
              "      <td>-0.14</td>\n",
              "      <td>c_0</td>\n",
              "      <td>2018_11</td>\n",
              "      <td>2018</td>\n",
              "      <td>1</td>\n",
              "    </tr>\n",
              "    <tr>\n",
              "      <th>3</th>\n",
              "      <td>-0.34</td>\n",
              "      <td>-0.12</td>\n",
              "      <td>0.17</td>\n",
              "      <td>-0.14</td>\n",
              "      <td>c_0</td>\n",
              "      <td>2018_12</td>\n",
              "      <td>2018</td>\n",
              "      <td>1</td>\n",
              "    </tr>\n",
              "    <tr>\n",
              "      <th>4</th>\n",
              "      <td>-0.22</td>\n",
              "      <td>-0.04</td>\n",
              "      <td>0.91</td>\n",
              "      <td>-0.14</td>\n",
              "      <td>c_0</td>\n",
              "      <td>2018_2</td>\n",
              "      <td>2018</td>\n",
              "      <td>1</td>\n",
              "    </tr>\n",
              "  </tbody>\n",
              "</table>\n",
              "</div>"
            ],
            "text/plain": [
              "   No_of_transaction  Total_USD  ...  year  Kmeans_Cluster\n",
              "0              -0.16      -0.11  ...  2018               1\n",
              "1               0.12      -0.07  ...  2018               0\n",
              "2              -0.31      -0.12  ...  2018               1\n",
              "3              -0.34      -0.12  ...  2018               1\n",
              "4              -0.22      -0.04  ...  2018               1\n",
              "\n",
              "[5 rows x 8 columns]"
            ]
          },
          "metadata": {
            "tags": []
          },
          "execution_count": 27
        }
      ]
    },
    {
      "cell_type": "code",
      "metadata": {
        "colab": {
          "base_uri": "https://localhost:8080/",
          "height": 297
        },
        "id": "1nVtALKxZUOC",
        "outputId": "ba1b9ad8-cdb5-4519-829f-3edfdd920926"
      },
      "source": [
        "##visualize no_of_trans\n",
        "sns.boxplot(x='Kmeans_Cluster', y='No_of_transaction', data=partech_clus)"
      ],
      "execution_count": null,
      "outputs": [
        {
          "output_type": "execute_result",
          "data": {
            "text/plain": [
              "<matplotlib.axes._subplots.AxesSubplot at 0x7f404d031e10>"
            ]
          },
          "metadata": {
            "tags": []
          },
          "execution_count": 28
        },
        {
          "output_type": "display_data",
          "data": {
            "image/png": "[encoded data removed]",
            "text/plain": [
              "<Figure size 432x288 with 1 Axes>"
            ]
          },
          "metadata": {
            "tags": [],
            "needs_background": "light"
          }
        }
      ]
    },
    {
      "cell_type": "code",
      "metadata": {
        "colab": {
          "base_uri": "https://localhost:8080/",
          "height": 308
        },
        "id": "j5x874wnZxoV",
        "outputId": "55b7cf0d-6833-4d39-db5e-070f512bf2c6"
      },
      "source": [
        "##visualize total_usd\n",
        "sns.boxplot(x='Kmeans_Cluster', y='Total_USD', data=partech_clus)"
      ],
      "execution_count": null,
      "outputs": [
        {
          "output_type": "execute_result",
          "data": {
            "text/plain": [
              "<matplotlib.axes._subplots.AxesSubplot at 0x7f404d20d410>"
            ]
          },
          "metadata": {
            "tags": []
          },
          "execution_count": 29
        },
        {
          "output_type": "display_data",
          "data": {
            "image/png": "[encoded data removed]",
            "text/plain": [
              "<Figure size 432x288 with 1 Axes>"
            ]
          },
          "metadata": {
            "tags": [],
            "needs_background": "light"
          }
        }
      ]
    },
    {
      "cell_type": "code",
      "metadata": {
        "colab": {
          "base_uri": "https://localhost:8080/",
          "height": 297
        },
        "id": "40wwxyGRaT-y",
        "outputId": "70258730-5d4e-48ce-a54b-19408a5c47a2"
      },
      "source": [
        "##visualize Distinct_Trans_Count\n",
        "sns.boxplot(x='Kmeans_Cluster', y='Distinct_Trans_Count', data=partech_clus)"
      ],
      "execution_count": null,
      "outputs": [
        {
          "output_type": "execute_result",
          "data": {
            "text/plain": [
              "<matplotlib.axes._subplots.AxesSubplot at 0x7f404d4d2a90>"
            ]
          },
          "metadata": {
            "tags": []
          },
          "execution_count": 30
        },
        {
          "output_type": "display_data",
          "data": {
            "image/png": "[encoded data removed]",
            "text/plain": [
              "<Figure size 432x288 with 1 Axes>"
            ]
          },
          "metadata": {
            "tags": [],
            "needs_background": "light"
          }
        }
      ]
    },
    {
      "cell_type": "code",
      "metadata": {
        "colab": {
          "base_uri": "https://localhost:8080/",
          "height": 297
        },
        "id": "e2L5Q6jMao1y",
        "outputId": "1708152a-1758-46bd-83d7-807c01f2d5cd"
      },
      "source": [
        "##visualize Distinct_Days_Count\n",
        "sns.boxplot(x='Kmeans_Cluster', y='Distinct_Days_Count', data=partech_clus)"
      ],
      "execution_count": null,
      "outputs": [
        {
          "output_type": "execute_result",
          "data": {
            "text/plain": [
              "<matplotlib.axes._subplots.AxesSubplot at 0x7f404d70c650>"
            ]
          },
          "metadata": {
            "tags": []
          },
          "execution_count": 31
        },
        {
          "output_type": "display_data",
          "data": {
            "image/png": "[encoded data removed]",
            "text/plain": [
              "<Figure size 432x288 with 1 Axes>"
            ]
          },
          "metadata": {
            "tags": [],
            "needs_background": "light"
          }
        }
      ]
    },
    {
      "cell_type": "markdown",
      "metadata": {
        "id": "z6ckx7T-FFxS"
      },
      "source": [
        "We can classify 1 as unengagged users and 0 as more engagged users."
      ]
    },
    {
      "cell_type": "code",
      "metadata": {
        "colab": {
          "base_uri": "https://localhost:8080/",
          "height": 406
        },
        "id": "Hj4OSnRiYeex",
        "outputId": "4f0d6e5b-0ee2-4cd5-9824-357e259f82f1"
      },
      "source": [
        "##The distribution of the target across the yearmonth\n",
        "import seaborn as sns\n",
        "plt.figure(figsize=(15,6))\n",
        "sns.histplot(data=new_scaled_mmx_df,x='yearmonth',hue='Kmeans_Cluster')\n"
      ],
      "execution_count": null,
      "outputs": [
        {
          "output_type": "execute_result",
          "data": {
            "text/plain": [
              "<matplotlib.axes._subplots.AxesSubplot at 0x7f404d93a690>"
            ]
          },
          "metadata": {
            "tags": []
          },
          "execution_count": 32
        },
        {
          "output_type": "display_data",
          "data": {
            "image/png": "[encoded data removed]",
            "text/plain": [
              "<Figure size 1080x432 with 1 Axes>"
            ]
          },
          "metadata": {
            "tags": [],
            "needs_background": "light"
          }
        }
      ]
    },
    {
      "cell_type": "markdown",
      "metadata": {
        "id": "e1vRlLDgelKV"
      },
      "source": [
        "The class of engagged and unengagged user is not distributed across the yearmonth uniformly. The target class is imbalanced."
      ]
    },
    {
      "cell_type": "code",
      "metadata": {
        "colab": {
          "base_uri": "https://localhost:8080/",
          "height": 382
        },
        "id": "0zr16Jal567R",
        "outputId": "82b25440-44ab-401e-bf9c-6bc6689f1fae"
      },
      "source": [
        "##correlation\n",
        "\n",
        "sns.heatmap(new_scaled_mmx_df.corr(),annot=True)"
      ],
      "execution_count": null,
      "outputs": [
        {
          "output_type": "execute_result",
          "data": {
            "text/plain": [
              "<matplotlib.axes._subplots.AxesSubplot at 0x7f404dbbe190>"
            ]
          },
          "metadata": {
            "tags": []
          },
          "execution_count": 33
        },
        {
          "output_type": "display_data",
          "data": {
            "image/png": "[encoded data removed]",
            "text/plain": [
              "<Figure size 432x288 with 2 Axes>"
            ]
          },
          "metadata": {
            "tags": [],
            "needs_background": "light"
          }
        }
      ]
    },
    {
      "cell_type": "code",
      "metadata": {
        "colab": {
          "base_uri": "https://localhost:8080/"
        },
        "id": "0bj_dcypHGYX",
        "outputId": "132d0c19-6096-44a6-fb6d-28900f1d5d4c"
      },
      "source": [
        "from statsmodels.stats.outliers_influence import variance_inflation_factor \n",
        "\n",
        "# the independent variables set \n",
        "XX = new_scaled_mmx_df.drop(['user_id','yearmonth','year','Kmeans_Cluster'],axis=1)\n",
        "  \n",
        "# VIF dataframe \n",
        "vif_data = pd.DataFrame() \n",
        "vif_data[\"feature\"] = XX.columns \n",
        "  \n",
        "# calculating VIF for each feature \n",
        "vif_data[\"VIF\"] = [variance_inflation_factor(XX.values, i) \n",
        "                          for i in range(len(XX.columns))] \n",
        "  \n",
        "print(vif_data)"
      ],
      "execution_count": null,
      "outputs": [
        {
          "output_type": "stream",
          "text": [
            "                feature  VIF\n",
            "0     No_of_transaction 3.09\n",
            "1             Total_USD 1.02\n",
            "2  Distinct_Trans_Count 1.65\n",
            "3   Distinct_Days_Count 3.37\n"
          ],
          "name": "stdout"
        },
        {
          "output_type": "stream",
          "text": [
            "/usr/local/lib/python3.7/dist-packages/statsmodels/tools/_testing.py:19: FutureWarning: pandas.util.testing is deprecated. Use the functions in the public API at pandas.testing instead.\n",
            "  import pandas.util.testing as tm\n"
          ],
          "name": "stderr"
        }
      ]
    },
    {
      "cell_type": "markdown",
      "metadata": {
        "id": "ahTzhPmGHGpj"
      },
      "source": [
        "\n",
        "\n",
        "*   Distinct_Days_Count has high V.I.F and highly correlated with no of transaction and distinct transaction count.\n",
        "\n",
        "\n"
      ]
    },
    {
      "cell_type": "code",
      "metadata": {
        "colab": {
          "base_uri": "https://localhost:8080/",
          "height": 197
        },
        "id": "nEk9NTxNKEx4",
        "outputId": "50d103e5-53cd-47f4-ada6-bd4419084c31"
      },
      "source": [
        "##Dropping Distinct_Days_Count\n",
        "new_scaled_mmx_df=new_scaled_mmx_df.drop(['Distinct_Days_Count'],axis=1)\n",
        "new_scaled_mmx_df.head()"
      ],
      "execution_count": null,
      "outputs": [
        {
          "output_type": "execute_result",
          "data": {
            "text/html": [
              "<div>\n",
              "<style scoped>\n",
              "    .dataframe tbody tr th:only-of-type {\n",
              "        vertical-align: middle;\n",
              "    }\n",
              "\n",
              "    .dataframe tbody tr th {\n",
              "        vertical-align: top;\n",
              "    }\n",
              "\n",
              "    .dataframe thead th {\n",
              "        text-align: right;\n",
              "    }\n",
              "</style>\n",
              "<table border=\"1\" class=\"dataframe\">\n",
              "  <thead>\n",
              "    <tr style=\"text-align: right;\">\n",
              "      <th></th>\n",
              "      <th>No_of_transaction</th>\n",
              "      <th>Total_USD</th>\n",
              "      <th>Distinct_Trans_Count</th>\n",
              "      <th>user_id</th>\n",
              "      <th>yearmonth</th>\n",
              "      <th>year</th>\n",
              "      <th>Kmeans_Cluster</th>\n",
              "    </tr>\n",
              "  </thead>\n",
              "  <tbody>\n",
              "    <tr>\n",
              "      <th>0</th>\n",
              "      <td>-0.16</td>\n",
              "      <td>-0.11</td>\n",
              "      <td>0.91</td>\n",
              "      <td>c_0</td>\n",
              "      <td>2018_1</td>\n",
              "      <td>2018</td>\n",
              "      <td>1</td>\n",
              "    </tr>\n",
              "    <tr>\n",
              "      <th>1</th>\n",
              "      <td>0.12</td>\n",
              "      <td>-0.07</td>\n",
              "      <td>1.64</td>\n",
              "      <td>c_0</td>\n",
              "      <td>2018_10</td>\n",
              "      <td>2018</td>\n",
              "      <td>0</td>\n",
              "    </tr>\n",
              "    <tr>\n",
              "      <th>2</th>\n",
              "      <td>-0.31</td>\n",
              "      <td>-0.12</td>\n",
              "      <td>0.91</td>\n",
              "      <td>c_0</td>\n",
              "      <td>2018_11</td>\n",
              "      <td>2018</td>\n",
              "      <td>1</td>\n",
              "    </tr>\n",
              "    <tr>\n",
              "      <th>3</th>\n",
              "      <td>-0.34</td>\n",
              "      <td>-0.12</td>\n",
              "      <td>0.17</td>\n",
              "      <td>c_0</td>\n",
              "      <td>2018_12</td>\n",
              "      <td>2018</td>\n",
              "      <td>1</td>\n",
              "    </tr>\n",
              "    <tr>\n",
              "      <th>4</th>\n",
              "      <td>-0.22</td>\n",
              "      <td>-0.04</td>\n",
              "      <td>0.91</td>\n",
              "      <td>c_0</td>\n",
              "      <td>2018_2</td>\n",
              "      <td>2018</td>\n",
              "      <td>1</td>\n",
              "    </tr>\n",
              "  </tbody>\n",
              "</table>\n",
              "</div>"
            ],
            "text/plain": [
              "   No_of_transaction  Total_USD  ...  year Kmeans_Cluster\n",
              "0              -0.16      -0.11  ...  2018              1\n",
              "1               0.12      -0.07  ...  2018              0\n",
              "2              -0.31      -0.12  ...  2018              1\n",
              "3              -0.34      -0.12  ...  2018              1\n",
              "4              -0.22      -0.04  ...  2018              1\n",
              "\n",
              "[5 rows x 7 columns]"
            ]
          },
          "metadata": {
            "tags": []
          },
          "execution_count": 35
        }
      ]
    },
    {
      "cell_type": "code",
      "metadata": {
        "id": "HszvnefA-crL"
      },
      "source": [
        "##Will train, evaluate the model on the 2018's data, and test it on 2019's data\n",
        "completed_2018=new_scaled_mmx_df.loc[new_scaled_mmx_df['year']=='2018']\n",
        "completed_2019=new_scaled_mmx_df.loc[new_scaled_mmx_df['year']=='2019']"
      ],
      "execution_count": null,
      "outputs": []
    },
    {
      "cell_type": "code",
      "metadata": {
        "colab": {
          "base_uri": "https://localhost:8080/"
        },
        "id": "NCRRhh9DBeIt",
        "outputId": "19b1bf5c-29d4-4742-cc78-957d12f4bb6b"
      },
      "source": [
        "##Split the data such that:\n",
        "##Training data - 80% till 201809\n",
        "##Validation data 1 (out-of-sample) - 20% till 201809\n",
        "data_till_201809=completed_2018.loc[~((completed_2018['yearmonth']=='2018_10') | (completed_2018['yearmonth']=='2018_11') | (completed_2018['yearmonth']=='2018_12'))]\n",
        "data_till_201809=data_till_201809.reset_index()\n",
        "data_till_201809=data_till_201809.drop('index',axis=1)\n",
        "data_till_201809.yearmonth.value_counts()"
      ],
      "execution_count": null,
      "outputs": [
        {
          "output_type": "execute_result",
          "data": {
            "text/plain": [
              "2018_9    7903\n",
              "2018_8    7028\n",
              "2018_7    5891\n",
              "2018_6    5025\n",
              "2018_5    4022\n",
              "2018_4    2922\n",
              "2018_3    2654\n",
              "2018_2    1246\n",
              "2018_1     746\n",
              "Name: yearmonth, dtype: int64"
            ]
          },
          "metadata": {
            "tags": []
          },
          "execution_count": 37
        }
      ]
    },
    {
      "cell_type": "code",
      "metadata": {
        "colab": {
          "base_uri": "https://localhost:8080/",
          "height": 197
        },
        "id": "Fp4XXHruHAJs",
        "outputId": "21b4750e-833d-4ad5-ee96-6ce3b60e8ded"
      },
      "source": [
        "data_till_201809.head()"
      ],
      "execution_count": null,
      "outputs": [
        {
          "output_type": "execute_result",
          "data": {
            "text/html": [
              "<div>\n",
              "<style scoped>\n",
              "    .dataframe tbody tr th:only-of-type {\n",
              "        vertical-align: middle;\n",
              "    }\n",
              "\n",
              "    .dataframe tbody tr th {\n",
              "        vertical-align: top;\n",
              "    }\n",
              "\n",
              "    .dataframe thead th {\n",
              "        text-align: right;\n",
              "    }\n",
              "</style>\n",
              "<table border=\"1\" class=\"dataframe\">\n",
              "  <thead>\n",
              "    <tr style=\"text-align: right;\">\n",
              "      <th></th>\n",
              "      <th>No_of_transaction</th>\n",
              "      <th>Total_USD</th>\n",
              "      <th>Distinct_Trans_Count</th>\n",
              "      <th>user_id</th>\n",
              "      <th>yearmonth</th>\n",
              "      <th>year</th>\n",
              "      <th>Kmeans_Cluster</th>\n",
              "    </tr>\n",
              "  </thead>\n",
              "  <tbody>\n",
              "    <tr>\n",
              "      <th>0</th>\n",
              "      <td>-0.16</td>\n",
              "      <td>-0.11</td>\n",
              "      <td>0.91</td>\n",
              "      <td>c_0</td>\n",
              "      <td>2018_1</td>\n",
              "      <td>2018</td>\n",
              "      <td>1</td>\n",
              "    </tr>\n",
              "    <tr>\n",
              "      <th>1</th>\n",
              "      <td>-0.22</td>\n",
              "      <td>-0.04</td>\n",
              "      <td>0.91</td>\n",
              "      <td>c_0</td>\n",
              "      <td>2018_2</td>\n",
              "      <td>2018</td>\n",
              "      <td>1</td>\n",
              "    </tr>\n",
              "    <tr>\n",
              "      <th>2</th>\n",
              "      <td>0.64</td>\n",
              "      <td>-0.02</td>\n",
              "      <td>1.64</td>\n",
              "      <td>c_0</td>\n",
              "      <td>2018_3</td>\n",
              "      <td>2018</td>\n",
              "      <td>0</td>\n",
              "    </tr>\n",
              "    <tr>\n",
              "      <th>3</th>\n",
              "      <td>-0.25</td>\n",
              "      <td>0.01</td>\n",
              "      <td>0.17</td>\n",
              "      <td>c_0</td>\n",
              "      <td>2018_4</td>\n",
              "      <td>2018</td>\n",
              "      <td>1</td>\n",
              "    </tr>\n",
              "    <tr>\n",
              "      <th>4</th>\n",
              "      <td>-0.06</td>\n",
              "      <td>-0.11</td>\n",
              "      <td>0.17</td>\n",
              "      <td>c_0</td>\n",
              "      <td>2018_5</td>\n",
              "      <td>2018</td>\n",
              "      <td>1</td>\n",
              "    </tr>\n",
              "  </tbody>\n",
              "</table>\n",
              "</div>"
            ],
            "text/plain": [
              "   No_of_transaction  Total_USD  ...  year Kmeans_Cluster\n",
              "0              -0.16      -0.11  ...  2018              1\n",
              "1              -0.22      -0.04  ...  2018              1\n",
              "2               0.64      -0.02  ...  2018              0\n",
              "3              -0.25       0.01  ...  2018              1\n",
              "4              -0.06      -0.11  ...  2018              1\n",
              "\n",
              "[5 rows x 7 columns]"
            ]
          },
          "metadata": {
            "tags": []
          },
          "execution_count": 38
        }
      ]
    },
    {
      "cell_type": "code",
      "metadata": {
        "id": "7kTXk4FLFn6t"
      },
      "source": [
        "##X and Y\n",
        "X=completed_2018.drop(['Kmeans_Cluster','year','yearmonth','user_id'],axis=1)\n",
        "Y=completed_2018['Kmeans_Cluster']"
      ],
      "execution_count": null,
      "outputs": []
    },
    {
      "cell_type": "code",
      "metadata": {
        "colab": {
          "base_uri": "https://localhost:8080/"
        },
        "id": "TSkpPCabJZDO",
        "outputId": "9c829bb9-6b00-4e5c-a542-944a111cfac8"
      },
      "source": [
        "print(X.shape)"
      ],
      "execution_count": null,
      "outputs": [
        {
          "output_type": "stream",
          "text": [
            "(67533, 3)\n"
          ],
          "name": "stdout"
        }
      ]
    },
    {
      "cell_type": "code",
      "metadata": {
        "colab": {
          "base_uri": "https://localhost:8080/",
          "height": 197
        },
        "id": "taP8LDo7MmSW",
        "outputId": "3644ffe6-d18d-49b2-849d-4e14e563ea44"
      },
      "source": [
        "X.head()"
      ],
      "execution_count": null,
      "outputs": [
        {
          "output_type": "execute_result",
          "data": {
            "text/html": [
              "<div>\n",
              "<style scoped>\n",
              "    .dataframe tbody tr th:only-of-type {\n",
              "        vertical-align: middle;\n",
              "    }\n",
              "\n",
              "    .dataframe tbody tr th {\n",
              "        vertical-align: top;\n",
              "    }\n",
              "\n",
              "    .dataframe thead th {\n",
              "        text-align: right;\n",
              "    }\n",
              "</style>\n",
              "<table border=\"1\" class=\"dataframe\">\n",
              "  <thead>\n",
              "    <tr style=\"text-align: right;\">\n",
              "      <th></th>\n",
              "      <th>No_of_transaction</th>\n",
              "      <th>Total_USD</th>\n",
              "      <th>Distinct_Trans_Count</th>\n",
              "    </tr>\n",
              "  </thead>\n",
              "  <tbody>\n",
              "    <tr>\n",
              "      <th>0</th>\n",
              "      <td>-0.16</td>\n",
              "      <td>-0.11</td>\n",
              "      <td>0.91</td>\n",
              "    </tr>\n",
              "    <tr>\n",
              "      <th>1</th>\n",
              "      <td>0.12</td>\n",
              "      <td>-0.07</td>\n",
              "      <td>1.64</td>\n",
              "    </tr>\n",
              "    <tr>\n",
              "      <th>2</th>\n",
              "      <td>-0.31</td>\n",
              "      <td>-0.12</td>\n",
              "      <td>0.91</td>\n",
              "    </tr>\n",
              "    <tr>\n",
              "      <th>3</th>\n",
              "      <td>-0.34</td>\n",
              "      <td>-0.12</td>\n",
              "      <td>0.17</td>\n",
              "    </tr>\n",
              "    <tr>\n",
              "      <th>4</th>\n",
              "      <td>-0.22</td>\n",
              "      <td>-0.04</td>\n",
              "      <td>0.91</td>\n",
              "    </tr>\n",
              "  </tbody>\n",
              "</table>\n",
              "</div>"
            ],
            "text/plain": [
              "   No_of_transaction  Total_USD  Distinct_Trans_Count\n",
              "0              -0.16      -0.11                  0.91\n",
              "1               0.12      -0.07                  1.64\n",
              "2              -0.31      -0.12                  0.91\n",
              "3              -0.34      -0.12                  0.17\n",
              "4              -0.22      -0.04                  0.91"
            ]
          },
          "metadata": {
            "tags": []
          },
          "execution_count": 41
        }
      ]
    },
    {
      "cell_type": "code",
      "metadata": {
        "colab": {
          "base_uri": "https://localhost:8080/"
        },
        "id": "CG4X1kw_NDiX",
        "outputId": "93e4546c-e446-478a-8888-6dd5757361b6"
      },
      "source": [
        "Y.head()"
      ],
      "execution_count": null,
      "outputs": [
        {
          "output_type": "execute_result",
          "data": {
            "text/plain": [
              "0    1\n",
              "1    0\n",
              "2    1\n",
              "3    1\n",
              "4    1\n",
              "Name: Kmeans_Cluster, dtype: int32"
            ]
          },
          "metadata": {
            "tags": []
          },
          "execution_count": 42
        }
      ]
    },
    {
      "cell_type": "code",
      "metadata": {
        "colab": {
          "base_uri": "https://localhost:8080/"
        },
        "id": "DaFHnxIlNHMF",
        "outputId": "9688ff20-1e76-4081-b51f-0da275888cdb"
      },
      "source": [
        "##Train Test split\n",
        "from sklearn.model_selection import train_test_split\n",
        "x_train,x_test,y_train,y_test=train_test_split(X,Y,test_size=0.20,stratify=Y,random_state=101)\n",
        "print(x_train.shape,x_test.shape)"
      ],
      "execution_count": null,
      "outputs": [
        {
          "output_type": "stream",
          "text": [
            "(54026, 3) (13507, 3)\n"
          ],
          "name": "stdout"
        }
      ]
    },
    {
      "cell_type": "markdown",
      "metadata": {
        "id": "meVfwThRlBRw"
      },
      "source": [
        "**Train, tune and validate an XGBoost,Logistic Regression**"
      ]
    },
    {
      "cell_type": "code",
      "metadata": {
        "colab": {
          "base_uri": "https://localhost:8080/",
          "height": 1000
        },
        "id": "GcVyFiKzNpEM",
        "outputId": "170bf822-617f-49f1-afce-01df63142cc9"
      },
      "source": [
        "##Validation1\n",
        "from xgboost import XGBClassifier\n",
        "from sklearn.linear_model import LogisticRegression\n",
        "from sklearn.metrics import classification_report,confusion_matrix\n",
        "\n",
        "models=[XGBClassifier(),LogisticRegression()]\n",
        "for i in models:\n",
        "  print(\"****{}****\".format(i))\n",
        "  i.fit(x_train,y_train)\n",
        "  pred=i.predict(x_test)\n",
        "  cnf_matrix=confusion_matrix(y_test,pred)\n",
        "  sns.heatmap(cnf_matrix,annot=True, fmt='', cmap='Blues')\n",
        "  plt.xlabel('Predicted')\n",
        "  plt.ylabel('Actual')\n",
        "  plt.show()\n",
        "  print(classification_report(y_test,pred))"
      ],
      "execution_count": null,
      "outputs": [
        {
          "output_type": "stream",
          "text": [
            "****XGBClassifier(base_score=0.5, booster='gbtree', colsample_bylevel=1,\n",
            "              colsample_bynode=1, colsample_bytree=1, gamma=0,\n",
            "              learning_rate=0.1, max_delta_step=0, max_depth=3,\n",
            "              min_child_weight=1, missing=None, n_estimators=100, n_jobs=1,\n",
            "              nthread=None, objective='binary:logistic', random_state=0,\n",
            "              reg_alpha=0, reg_lambda=1, scale_pos_weight=1, seed=None,\n",
            "              silent=None, subsample=1, verbosity=1)****\n"
          ],
          "name": "stdout"
        },
        {
          "output_type": "display_data",
          "data": {
            "image/png": "[encoded data removed]",
            "text/plain": [
              "<Figure size 432x288 with 2 Axes>"
            ]
          },
          "metadata": {
            "tags": [],
            "needs_background": "light"
          }
        },
        {
          "output_type": "stream",
          "text": [
            "              precision    recall  f1-score   support\n",
            "\n",
            "           0       0.92      0.92      0.92      2929\n",
            "           1       0.98      0.98      0.98     10578\n",
            "\n",
            "    accuracy                           0.96     13507\n",
            "   macro avg       0.95      0.95      0.95     13507\n",
            "weighted avg       0.96      0.96      0.96     13507\n",
            "\n",
            "****LogisticRegression(C=1.0, class_weight=None, dual=False, fit_intercept=True,\n",
            "                   intercept_scaling=1, l1_ratio=None, max_iter=100,\n",
            "                   multi_class='auto', n_jobs=None, penalty='l2',\n",
            "                   random_state=None, solver='lbfgs', tol=0.0001, verbose=0,\n",
            "                   warm_start=False)****\n"
          ],
          "name": "stdout"
        },
        {
          "output_type": "display_data",
          "data": {
            "image/png": "[encoded data removed]",
            "text/plain": [
              "<Figure size 432x288 with 2 Axes>"
            ]
          },
          "metadata": {
            "tags": [],
            "needs_background": "light"
          }
        },
        {
          "output_type": "stream",
          "text": [
            "              precision    recall  f1-score   support\n",
            "\n",
            "           0       0.93      0.91      0.92      2929\n",
            "           1       0.97      0.98      0.98     10578\n",
            "\n",
            "    accuracy                           0.96     13507\n",
            "   macro avg       0.95      0.94      0.95     13507\n",
            "weighted avg       0.96      0.96      0.96     13507\n",
            "\n"
          ],
          "name": "stdout"
        }
      ]
    },
    {
      "cell_type": "code",
      "metadata": {
        "colab": {
          "base_uri": "https://localhost:8080/",
          "height": 215
        },
        "id": "Mlh7GAI19d4w",
        "outputId": "c6920063-ad63-4be4-fd2e-843177a2da90"
      },
      "source": [
        "##Split the data such that\n",
        "#Validation data 2 (out-of-time) - 201812\n",
        "validate2_df=completed_2018.loc[completed_2018['yearmonth']=='2018_12']\n",
        "validate2_df=validate2_df.reset_index()\n",
        "validate2_df=validate2_df.drop(['index','year','yearmonth','user_id'],axis=1)\n",
        "print(validate2_df.shape)\n",
        "validate2_df.head()"
      ],
      "execution_count": null,
      "outputs": [
        {
          "output_type": "stream",
          "text": [
            "(11382, 4)\n"
          ],
          "name": "stdout"
        },
        {
          "output_type": "execute_result",
          "data": {
            "text/html": [
              "<div>\n",
              "<style scoped>\n",
              "    .dataframe tbody tr th:only-of-type {\n",
              "        vertical-align: middle;\n",
              "    }\n",
              "\n",
              "    .dataframe tbody tr th {\n",
              "        vertical-align: top;\n",
              "    }\n",
              "\n",
              "    .dataframe thead th {\n",
              "        text-align: right;\n",
              "    }\n",
              "</style>\n",
              "<table border=\"1\" class=\"dataframe\">\n",
              "  <thead>\n",
              "    <tr style=\"text-align: right;\">\n",
              "      <th></th>\n",
              "      <th>No_of_transaction</th>\n",
              "      <th>Total_USD</th>\n",
              "      <th>Distinct_Trans_Count</th>\n",
              "      <th>Kmeans_Cluster</th>\n",
              "    </tr>\n",
              "  </thead>\n",
              "  <tbody>\n",
              "    <tr>\n",
              "      <th>0</th>\n",
              "      <td>-0.34</td>\n",
              "      <td>-0.12</td>\n",
              "      <td>0.17</td>\n",
              "      <td>1</td>\n",
              "    </tr>\n",
              "    <tr>\n",
              "      <th>1</th>\n",
              "      <td>-0.37</td>\n",
              "      <td>-0.11</td>\n",
              "      <td>-0.57</td>\n",
              "      <td>1</td>\n",
              "    </tr>\n",
              "    <tr>\n",
              "      <th>2</th>\n",
              "      <td>1.50</td>\n",
              "      <td>0.02</td>\n",
              "      <td>0.91</td>\n",
              "      <td>0</td>\n",
              "    </tr>\n",
              "    <tr>\n",
              "      <th>3</th>\n",
              "      <td>-0.40</td>\n",
              "      <td>-0.06</td>\n",
              "      <td>0.91</td>\n",
              "      <td>1</td>\n",
              "    </tr>\n",
              "    <tr>\n",
              "      <th>4</th>\n",
              "      <td>-0.49</td>\n",
              "      <td>0.14</td>\n",
              "      <td>0.17</td>\n",
              "      <td>1</td>\n",
              "    </tr>\n",
              "  </tbody>\n",
              "</table>\n",
              "</div>"
            ],
            "text/plain": [
              "   No_of_transaction  Total_USD  Distinct_Trans_Count  Kmeans_Cluster\n",
              "0              -0.34      -0.12                  0.17               1\n",
              "1              -0.37      -0.11                 -0.57               1\n",
              "2               1.50       0.02                  0.91               0\n",
              "3              -0.40      -0.06                  0.91               1\n",
              "4              -0.49       0.14                  0.17               1"
            ]
          },
          "metadata": {
            "tags": []
          },
          "execution_count": 45
        }
      ]
    },
    {
      "cell_type": "code",
      "metadata": {
        "id": "FeIkic9MQMlq"
      },
      "source": [
        "x_val2=validate2_df[[\"No_of_transaction\",\"Total_USD\",\"Distinct_Trans_Count\"]]\n",
        "y_val2=validate2_df['Kmeans_Cluster']"
      ],
      "execution_count": null,
      "outputs": []
    },
    {
      "cell_type": "code",
      "metadata": {
        "colab": {
          "base_uri": "https://localhost:8080/",
          "height": 1000
        },
        "id": "ABy2cK6XOzUW",
        "outputId": "bc599934-1740-4dab-c17b-b969f87a709f"
      },
      "source": [
        "##Validation2\n",
        "from xgboost import XGBClassifier\n",
        "from sklearn.linear_model import LogisticRegression\n",
        "from sklearn.metrics import classification_report,confusion_matrix\n",
        "\n",
        "models=[XGBClassifier(),LogisticRegression()]\n",
        "for i in models:\n",
        "  print(\"****{}****\".format(i))\n",
        "  i.fit(x_train,y_train)\n",
        "  pred=i.predict(x_val2)\n",
        "  cnf_matrix=confusion_matrix(y_val2,pred)\n",
        "  sns.heatmap(cnf_matrix,annot=True, fmt='', cmap='Blues')\n",
        "  plt.xlabel('Predicted')\n",
        "  plt.ylabel('Actual')\n",
        "  plt.show()\n",
        "  print(classification_report(y_val2,pred))"
      ],
      "execution_count": null,
      "outputs": [
        {
          "output_type": "stream",
          "text": [
            "****XGBClassifier(base_score=0.5, booster='gbtree', colsample_bylevel=1,\n",
            "              colsample_bynode=1, colsample_bytree=1, gamma=0,\n",
            "              learning_rate=0.1, max_delta_step=0, max_depth=3,\n",
            "              min_child_weight=1, missing=None, n_estimators=100, n_jobs=1,\n",
            "              nthread=None, objective='binary:logistic', random_state=0,\n",
            "              reg_alpha=0, reg_lambda=1, scale_pos_weight=1, seed=None,\n",
            "              silent=None, subsample=1, verbosity=1)****\n"
          ],
          "name": "stdout"
        },
        {
          "output_type": "display_data",
          "data": {
            "image/png": "[encoded data removed]",
            "text/plain": [
              "<Figure size 432x288 with 2 Axes>"
            ]
          },
          "metadata": {
            "tags": [],
            "needs_background": "light"
          }
        },
        {
          "output_type": "stream",
          "text": [
            "              precision    recall  f1-score   support\n",
            "\n",
            "           0       0.92      0.92      0.92      2600\n",
            "           1       0.98      0.98      0.98      8782\n",
            "\n",
            "    accuracy                           0.96     11382\n",
            "   macro avg       0.95      0.95      0.95     11382\n",
            "weighted avg       0.96      0.96      0.96     11382\n",
            "\n",
            "****LogisticRegression(C=1.0, class_weight=None, dual=False, fit_intercept=True,\n",
            "                   intercept_scaling=1, l1_ratio=None, max_iter=100,\n",
            "                   multi_class='auto', n_jobs=None, penalty='l2',\n",
            "                   random_state=None, solver='lbfgs', tol=0.0001, verbose=0,\n",
            "                   warm_start=False)****\n"
          ],
          "name": "stdout"
        },
        {
          "output_type": "display_data",
          "data": {
            "image/png": "[encoded data removed]",
            "text/plain": [
              "<Figure size 432x288 with 2 Axes>"
            ]
          },
          "metadata": {
            "tags": [],
            "needs_background": "light"
          }
        },
        {
          "output_type": "stream",
          "text": [
            "              precision    recall  f1-score   support\n",
            "\n",
            "           0       0.93      0.90      0.91      2600\n",
            "           1       0.97      0.98      0.98      8782\n",
            "\n",
            "    accuracy                           0.96     11382\n",
            "   macro avg       0.95      0.94      0.94     11382\n",
            "weighted avg       0.96      0.96      0.96     11382\n",
            "\n"
          ],
          "name": "stdout"
        }
      ]
    },
    {
      "cell_type": "markdown",
      "metadata": {
        "id": "qt4FjBS-dLzB"
      },
      "source": [
        "**Based on the 2 models, what are the essential indicators of unengagement?**\n",
        "\n",
        "\n",
        "*   Ans: No_of_transaction,\tTotal_USD, Distinct_Trans_Count\n",
        "\n",
        "\n"
      ]
    },
    {
      "cell_type": "markdown",
      "metadata": {
        "id": "GoWMRMYKdp_H"
      },
      "source": [
        "**Compare the performance of the 2 models. Which model should ParTech use?**\n",
        "\n",
        "*   Both algorithm are performing good  as both are giving f1 score of greater than 90% for both the classes, but I'll choose XGB or LogisticRegression  as LR was inaccurate by 2% in comparison with XGB's recall.\n",
        "\n"
      ]
    },
    {
      "cell_type": "code",
      "metadata": {
        "colab": {
          "base_uri": "https://localhost:8080/"
        },
        "id": "PtIKZjemhDnq",
        "outputId": "2d275154-c772-4dd5-9337-83bb0172d630"
      },
      "source": [
        "##Final Model\n",
        "fmodel=XGBClassifier()\n",
        "fmodel.fit(x_train,y_train)"
      ],
      "execution_count": null,
      "outputs": [
        {
          "output_type": "execute_result",
          "data": {
            "text/plain": [
              "XGBClassifier(base_score=0.5, booster='gbtree', colsample_bylevel=1,\n",
              "              colsample_bynode=1, colsample_bytree=1, gamma=0,\n",
              "              learning_rate=0.1, max_delta_step=0, max_depth=3,\n",
              "              min_child_weight=1, missing=None, n_estimators=100, n_jobs=1,\n",
              "              nthread=None, objective='binary:logistic', random_state=0,\n",
              "              reg_alpha=0, reg_lambda=1, scale_pos_weight=1, seed=None,\n",
              "              silent=None, subsample=1, verbosity=1)"
            ]
          },
          "metadata": {
            "tags": []
          },
          "execution_count": 48
        }
      ]
    },
    {
      "cell_type": "markdown",
      "metadata": {
        "id": "ErpgCuPlhGga"
      },
      "source": [
        "##Task 4"
      ]
    },
    {
      "cell_type": "markdown",
      "metadata": {
        "id": "ukkYJNnskFH-"
      },
      "source": [
        "**Use the model developed in Task 3 to score on 201901 data**"
      ]
    },
    {
      "cell_type": "code",
      "metadata": {
        "colab": {
          "base_uri": "https://localhost:8080/",
          "height": 215
        },
        "id": "9zsQ_wMEOZdG",
        "outputId": "17559dc8-18ab-472d-d502-24bf010d5774"
      },
      "source": [
        "##Split the data such that\n",
        "#Scoring data - 201901\n",
        "scoring=completed_2019.loc[completed_2019['yearmonth']=='2019_1']\n",
        "scoring=scoring.reset_index()\n",
        "scoring=scoring.drop(['index','year','yearmonth','user_id'],axis=1)\n",
        "print(scoring.shape)\n",
        "scoring.head()"
      ],
      "execution_count": null,
      "outputs": [
        {
          "output_type": "stream",
          "text": [
            "(11020, 4)\n"
          ],
          "name": "stdout"
        },
        {
          "output_type": "execute_result",
          "data": {
            "text/html": [
              "<div>\n",
              "<style scoped>\n",
              "    .dataframe tbody tr th:only-of-type {\n",
              "        vertical-align: middle;\n",
              "    }\n",
              "\n",
              "    .dataframe tbody tr th {\n",
              "        vertical-align: top;\n",
              "    }\n",
              "\n",
              "    .dataframe thead th {\n",
              "        text-align: right;\n",
              "    }\n",
              "</style>\n",
              "<table border=\"1\" class=\"dataframe\">\n",
              "  <thead>\n",
              "    <tr style=\"text-align: right;\">\n",
              "      <th></th>\n",
              "      <th>No_of_transaction</th>\n",
              "      <th>Total_USD</th>\n",
              "      <th>Distinct_Trans_Count</th>\n",
              "      <th>Kmeans_Cluster</th>\n",
              "    </tr>\n",
              "  </thead>\n",
              "  <tbody>\n",
              "    <tr>\n",
              "      <th>0</th>\n",
              "      <td>-0.55</td>\n",
              "      <td>-0.13</td>\n",
              "      <td>-0.57</td>\n",
              "      <td>1</td>\n",
              "    </tr>\n",
              "    <tr>\n",
              "      <th>1</th>\n",
              "      <td>-0.55</td>\n",
              "      <td>-0.08</td>\n",
              "      <td>-0.57</td>\n",
              "      <td>1</td>\n",
              "    </tr>\n",
              "    <tr>\n",
              "      <th>2</th>\n",
              "      <td>1.74</td>\n",
              "      <td>0.00</td>\n",
              "      <td>1.64</td>\n",
              "      <td>0</td>\n",
              "    </tr>\n",
              "    <tr>\n",
              "      <th>3</th>\n",
              "      <td>-0.43</td>\n",
              "      <td>-0.05</td>\n",
              "      <td>-0.57</td>\n",
              "      <td>1</td>\n",
              "    </tr>\n",
              "    <tr>\n",
              "      <th>4</th>\n",
              "      <td>-0.34</td>\n",
              "      <td>0.06</td>\n",
              "      <td>0.91</td>\n",
              "      <td>1</td>\n",
              "    </tr>\n",
              "  </tbody>\n",
              "</table>\n",
              "</div>"
            ],
            "text/plain": [
              "   No_of_transaction  Total_USD  Distinct_Trans_Count  Kmeans_Cluster\n",
              "0              -0.55      -0.13                 -0.57               1\n",
              "1              -0.55      -0.08                 -0.57               1\n",
              "2               1.74       0.00                  1.64               0\n",
              "3              -0.43      -0.05                 -0.57               1\n",
              "4              -0.34       0.06                  0.91               1"
            ]
          },
          "metadata": {
            "tags": []
          },
          "execution_count": 49
        }
      ]
    },
    {
      "cell_type": "code",
      "metadata": {
        "id": "vIOu330ciN_U"
      },
      "source": [
        "x_jan2019=scoring[[\"No_of_transaction\",\"Total_USD\",\"Distinct_Trans_Count\"]]\n",
        "y_jan2019=scoring['Kmeans_Cluster']"
      ],
      "execution_count": null,
      "outputs": []
    },
    {
      "cell_type": "code",
      "metadata": {
        "colab": {
          "base_uri": "https://localhost:8080/",
          "height": 438
        },
        "id": "HoYBxlDyhFa8",
        "outputId": "c7ee15c9-05b3-4466-8912-e645b795e3fe"
      },
      "source": [
        "x_jan2019_pred=fmodel.predict(x_jan2019)\n",
        "cnf_matrix=confusion_matrix(y_jan2019,x_jan2019_pred)\n",
        "sns.heatmap(cnf_matrix,annot=True, fmt='', cmap='Blues')\n",
        "plt.xlabel('Predicted')\n",
        "plt.ylabel('Actual')\n",
        "plt.show()\n",
        "print(classification_report(y_jan2019,x_jan2019_pred))"
      ],
      "execution_count": null,
      "outputs": [
        {
          "output_type": "display_data",
          "data": {
            "image/png": "[encoded data removed]",
            "text/plain": [
              "<Figure size 432x288 with 2 Axes>"
            ]
          },
          "metadata": {
            "tags": [],
            "needs_background": "light"
          }
        },
        {
          "output_type": "stream",
          "text": [
            "              precision    recall  f1-score   support\n",
            "\n",
            "           0       0.93      0.91      0.92      2840\n",
            "           1       0.97      0.98      0.97      8180\n",
            "\n",
            "    accuracy                           0.96     11020\n",
            "   macro avg       0.95      0.94      0.95     11020\n",
            "weighted avg       0.96      0.96      0.96     11020\n",
            "\n"
          ],
          "name": "stdout"
        }
      ]
    },
    {
      "cell_type": "markdown",
      "metadata": {
        "id": "9J6g0zNEhEQB"
      },
      "source": [
        "**What can cumulative gains plot tell us about the optimal sample size for testing?**"
      ]
    },
    {
      "cell_type": "code",
      "metadata": {
        "colab": {
          "base_uri": "https://localhost:8080/"
        },
        "id": "ww1iAAn73_Uy",
        "outputId": "ed0bf1a1-4937-4537-9460-44e424910d28"
      },
      "source": [
        "!pip install scikit-plot"
      ],
      "execution_count": null,
      "outputs": [
        {
          "output_type": "stream",
          "text": [
            "Requirement already satisfied: scikit-plot in /usr/local/lib/python3.7/dist-packages (0.3.7)\n",
            "Requirement already satisfied: scipy>=0.9 in /usr/local/lib/python3.7/dist-packages (from scikit-plot) (1.4.1)\n",
            "Requirement already satisfied: scikit-learn>=0.18 in /usr/local/lib/python3.7/dist-packages (from scikit-plot) (0.22.2.post1)\n",
            "Requirement already satisfied: joblib>=0.10 in /usr/local/lib/python3.7/dist-packages (from scikit-plot) (1.0.1)\n",
            "Requirement already satisfied: matplotlib>=1.4.0 in /usr/local/lib/python3.7/dist-packages (from scikit-plot) (3.2.2)\n",
            "Requirement already satisfied: numpy>=1.13.3 in /usr/local/lib/python3.7/dist-packages (from scipy>=0.9->scikit-plot) (1.19.5)\n",
            "Requirement already satisfied: python-dateutil>=2.1 in /usr/local/lib/python3.7/dist-packages (from matplotlib>=1.4.0->scikit-plot) (2.8.1)\n",
            "Requirement already satisfied: kiwisolver>=1.0.1 in /usr/local/lib/python3.7/dist-packages (from matplotlib>=1.4.0->scikit-plot) (1.3.1)\n",
            "Requirement already satisfied: cycler>=0.10 in /usr/local/lib/python3.7/dist-packages (from matplotlib>=1.4.0->scikit-plot) (0.10.0)\n",
            "Requirement already satisfied: pyparsing!=2.0.4,!=2.1.2,!=2.1.6,>=2.0.1 in /usr/local/lib/python3.7/dist-packages (from matplotlib>=1.4.0->scikit-plot) (2.4.7)\n",
            "Requirement already satisfied: six>=1.5 in /usr/local/lib/python3.7/dist-packages (from python-dateutil>=2.1->matplotlib>=1.4.0->scikit-plot) (1.15.0)\n"
          ],
          "name": "stdout"
        }
      ]
    },
    {
      "cell_type": "code",
      "metadata": {
        "colab": {
          "base_uri": "https://localhost:8080/",
          "height": 197
        },
        "id": "d5aq9iy2kME-",
        "outputId": "b1d5024b-2a3f-4fe0-8eb3-497e7254d4ba"
      },
      "source": [
        "res=pd.DataFrame()\n",
        "res['Actaual']=y_jan2019\n",
        "res['Predicted']=x_jan2019_pred\n",
        "res.head()"
      ],
      "execution_count": null,
      "outputs": [
        {
          "output_type": "execute_result",
          "data": {
            "text/html": [
              "<div>\n",
              "<style scoped>\n",
              "    .dataframe tbody tr th:only-of-type {\n",
              "        vertical-align: middle;\n",
              "    }\n",
              "\n",
              "    .dataframe tbody tr th {\n",
              "        vertical-align: top;\n",
              "    }\n",
              "\n",
              "    .dataframe thead th {\n",
              "        text-align: right;\n",
              "    }\n",
              "</style>\n",
              "<table border=\"1\" class=\"dataframe\">\n",
              "  <thead>\n",
              "    <tr style=\"text-align: right;\">\n",
              "      <th></th>\n",
              "      <th>Actaual</th>\n",
              "      <th>Predicted</th>\n",
              "    </tr>\n",
              "  </thead>\n",
              "  <tbody>\n",
              "    <tr>\n",
              "      <th>0</th>\n",
              "      <td>1</td>\n",
              "      <td>1</td>\n",
              "    </tr>\n",
              "    <tr>\n",
              "      <th>1</th>\n",
              "      <td>1</td>\n",
              "      <td>1</td>\n",
              "    </tr>\n",
              "    <tr>\n",
              "      <th>2</th>\n",
              "      <td>0</td>\n",
              "      <td>0</td>\n",
              "    </tr>\n",
              "    <tr>\n",
              "      <th>3</th>\n",
              "      <td>1</td>\n",
              "      <td>1</td>\n",
              "    </tr>\n",
              "    <tr>\n",
              "      <th>4</th>\n",
              "      <td>1</td>\n",
              "      <td>1</td>\n",
              "    </tr>\n",
              "  </tbody>\n",
              "</table>\n",
              "</div>"
            ],
            "text/plain": [
              "   Actaual  Predicted\n",
              "0        1          1\n",
              "1        1          1\n",
              "2        0          0\n",
              "3        1          1\n",
              "4        1          1"
            ]
          },
          "metadata": {
            "tags": []
          },
          "execution_count": 53
        }
      ]
    },
    {
      "cell_type": "code",
      "metadata": {
        "id": "heI-rxTrhE2A"
      },
      "source": [
        "import scikitplot as skplt\n",
        "\n",
        "skplt.metrics.plot_cumulative_gain(res['Actaual'], res['Predicted'])\n",
        "\n",
        "plt.show()\n"
      ],
      "execution_count": null,
      "outputs": []
    }
  ]
}